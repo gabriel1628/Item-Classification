{
 "cells": [
  {
   "cell_type": "markdown",
   "id": "c93edd0a",
   "metadata": {},
   "source": [
    "# Introduction\n",
    "\n",
    "**Project Objectives :**\n",
    "\n",
    "- Conduct a preliminary feasibility study of an item classification engine, based on textual description and/or images, for automating item categorization.\n",
    "- Analyze the dataset by preprocessing product descriptions and images, reducing dimensionality, and performing clustering. The results of dimensionality reduction and clustering will be presented in two-dimensional graphs and confirmed by similarity calculation (e.g., ARI) between real categories and clusters.\n",
    "- Train Natural Language Processing (NLP) and computer vision models to classify items.\n",
    "\n",
    "To extract textual features, we will implement several approaches :\n",
    "- Two \"bag-of-words\" approaches: simple word counting and TF-IDF.\n",
    "- A traditional word/sentence embedding approach using Word2Vec.\n",
    "- A word/sentence embedding approach using BERT.\n",
    "- A word/sentence embedding approach using USE (Universal Sentence Encoder).\n",
    "\n",
    "To extract image features, we will use two strategies :\n",
    "- An algorithm such as SIFT / ORB / SURF.\n",
    "- A CNN Transfer Learning-based algorithm.\n",
    "\n",
    "This notebook is dedicated to text data preprocessing, the notebook **text-clustering-and-classification** to item clustering and classification using text data, and the notebook **image-clustering-and-classification** to item clustering and classification using images."
   ]
  },
  {
   "cell_type": "code",
   "execution_count": 59,
   "id": "d301c8db",
   "metadata": {},
   "outputs": [],
   "source": [
    "import pandas as pd\n",
    "\n",
    "import matplotlib.pyplot as plt\n",
    "import seaborn as sns\n",
    "sns.set_theme()\n",
    "\n",
    "import nltk\n",
    "# nltk.download('punkt')\n",
    "# nltk.download('stopwords')\n",
    "# nltk.download('words')\n",
    "# nltk.download('wordnet')\n",
    "from nltk.stem import WordNetLemmatizer, PorterStemmer\n",
    "from nltk.tokenize import word_tokenize\n",
    "from nltk.corpus import words, stopwords\n",
    "\n",
    "from wordcloud import WordCloud\n",
    "\n",
    "import string"
   ]
  },
  {
   "cell_type": "code",
   "execution_count": 2,
   "id": "de06178e",
   "metadata": {},
   "outputs": [
    {
     "data": {
      "text/html": [
       "<div>\n",
       "<style scoped>\n",
       "    .dataframe tbody tr th:only-of-type {\n",
       "        vertical-align: middle;\n",
       "    }\n",
       "\n",
       "    .dataframe tbody tr th {\n",
       "        vertical-align: top;\n",
       "    }\n",
       "\n",
       "    .dataframe thead th {\n",
       "        text-align: right;\n",
       "    }\n",
       "</style>\n",
       "<table border=\"1\" class=\"dataframe\">\n",
       "  <thead>\n",
       "    <tr style=\"text-align: right;\">\n",
       "      <th></th>\n",
       "      <th>uniq_id</th>\n",
       "      <th>crawl_timestamp</th>\n",
       "      <th>product_url</th>\n",
       "      <th>product_name</th>\n",
       "      <th>product_category_tree</th>\n",
       "      <th>pid</th>\n",
       "      <th>retail_price</th>\n",
       "      <th>discounted_price</th>\n",
       "      <th>image</th>\n",
       "      <th>is_FK_Advantage_product</th>\n",
       "      <th>description</th>\n",
       "      <th>product_rating</th>\n",
       "      <th>overall_rating</th>\n",
       "      <th>brand</th>\n",
       "      <th>product_specifications</th>\n",
       "    </tr>\n",
       "  </thead>\n",
       "  <tbody>\n",
       "    <tr>\n",
       "      <th>0</th>\n",
       "      <td>55b85ea15a1536d46b7190ad6fff8ce7</td>\n",
       "      <td>2016-04-30 03:22:56 +0000</td>\n",
       "      <td>http://www.flipkart.com/elegance-polyester-mul...</td>\n",
       "      <td>Elegance Polyester Multicolor Abstract Eyelet ...</td>\n",
       "      <td>[\"Home Furnishing &gt;&gt; Curtains &amp; Accessories &gt;&gt;...</td>\n",
       "      <td>CRNEG7BKMFFYHQ8Z</td>\n",
       "      <td>1899.0</td>\n",
       "      <td>899.0</td>\n",
       "      <td>55b85ea15a1536d46b7190ad6fff8ce7.jpg</td>\n",
       "      <td>False</td>\n",
       "      <td>Key Features of Elegance Polyester Multicolor ...</td>\n",
       "      <td>No rating available</td>\n",
       "      <td>No rating available</td>\n",
       "      <td>Elegance</td>\n",
       "      <td>{\"product_specification\"=&gt;[{\"key\"=&gt;\"Brand\", \"v...</td>\n",
       "    </tr>\n",
       "    <tr>\n",
       "      <th>1</th>\n",
       "      <td>7b72c92c2f6c40268628ec5f14c6d590</td>\n",
       "      <td>2016-04-30 03:22:56 +0000</td>\n",
       "      <td>http://www.flipkart.com/sathiyas-cotton-bath-t...</td>\n",
       "      <td>Sathiyas Cotton Bath Towel</td>\n",
       "      <td>[\"Baby Care &gt;&gt; Baby Bath &amp; Skin &gt;&gt; Baby Bath T...</td>\n",
       "      <td>BTWEGFZHGBXPHZUH</td>\n",
       "      <td>600.0</td>\n",
       "      <td>449.0</td>\n",
       "      <td>7b72c92c2f6c40268628ec5f14c6d590.jpg</td>\n",
       "      <td>False</td>\n",
       "      <td>Specifications of Sathiyas Cotton Bath Towel (...</td>\n",
       "      <td>No rating available</td>\n",
       "      <td>No rating available</td>\n",
       "      <td>Sathiyas</td>\n",
       "      <td>{\"product_specification\"=&gt;[{\"key\"=&gt;\"Machine Wa...</td>\n",
       "    </tr>\n",
       "    <tr>\n",
       "      <th>2</th>\n",
       "      <td>64d5d4a258243731dc7bbb1eef49ad74</td>\n",
       "      <td>2016-04-30 03:22:56 +0000</td>\n",
       "      <td>http://www.flipkart.com/eurospa-cotton-terry-f...</td>\n",
       "      <td>Eurospa Cotton Terry Face Towel Set</td>\n",
       "      <td>[\"Baby Care &gt;&gt; Baby Bath &amp; Skin &gt;&gt; Baby Bath T...</td>\n",
       "      <td>BTWEG6SHXTDB2A2Y</td>\n",
       "      <td>NaN</td>\n",
       "      <td>NaN</td>\n",
       "      <td>64d5d4a258243731dc7bbb1eef49ad74.jpg</td>\n",
       "      <td>False</td>\n",
       "      <td>Key Features of Eurospa Cotton Terry Face Towe...</td>\n",
       "      <td>No rating available</td>\n",
       "      <td>No rating available</td>\n",
       "      <td>Eurospa</td>\n",
       "      <td>{\"product_specification\"=&gt;[{\"key\"=&gt;\"Material\",...</td>\n",
       "    </tr>\n",
       "    <tr>\n",
       "      <th>3</th>\n",
       "      <td>d4684dcdc759dd9cdf41504698d737d8</td>\n",
       "      <td>2016-06-20 08:49:52 +0000</td>\n",
       "      <td>http://www.flipkart.com/santosh-royal-fashion-...</td>\n",
       "      <td>SANTOSH ROYAL FASHION Cotton Printed King size...</td>\n",
       "      <td>[\"Home Furnishing &gt;&gt; Bed Linen &gt;&gt; Bedsheets &gt;&gt;...</td>\n",
       "      <td>BDSEJT9UQWHDUBH4</td>\n",
       "      <td>2699.0</td>\n",
       "      <td>1299.0</td>\n",
       "      <td>d4684dcdc759dd9cdf41504698d737d8.jpg</td>\n",
       "      <td>False</td>\n",
       "      <td>Key Features of SANTOSH ROYAL FASHION Cotton P...</td>\n",
       "      <td>No rating available</td>\n",
       "      <td>No rating available</td>\n",
       "      <td>SANTOSH ROYAL FASHION</td>\n",
       "      <td>{\"product_specification\"=&gt;[{\"key\"=&gt;\"Brand\", \"v...</td>\n",
       "    </tr>\n",
       "    <tr>\n",
       "      <th>4</th>\n",
       "      <td>6325b6870c54cd47be6ebfbffa620ec7</td>\n",
       "      <td>2016-06-20 08:49:52 +0000</td>\n",
       "      <td>http://www.flipkart.com/jaipur-print-cotton-fl...</td>\n",
       "      <td>Jaipur Print Cotton Floral King sized Double B...</td>\n",
       "      <td>[\"Home Furnishing &gt;&gt; Bed Linen &gt;&gt; Bedsheets &gt;&gt;...</td>\n",
       "      <td>BDSEJTHNGWVGWWQU</td>\n",
       "      <td>2599.0</td>\n",
       "      <td>698.0</td>\n",
       "      <td>6325b6870c54cd47be6ebfbffa620ec7.jpg</td>\n",
       "      <td>False</td>\n",
       "      <td>Key Features of Jaipur Print Cotton Floral Kin...</td>\n",
       "      <td>No rating available</td>\n",
       "      <td>No rating available</td>\n",
       "      <td>Jaipur Print</td>\n",
       "      <td>{\"product_specification\"=&gt;[{\"key\"=&gt;\"Machine Wa...</td>\n",
       "    </tr>\n",
       "  </tbody>\n",
       "</table>\n",
       "</div>"
      ],
      "text/plain": [
       "                            uniq_id            crawl_timestamp  \\\n",
       "0  55b85ea15a1536d46b7190ad6fff8ce7  2016-04-30 03:22:56 +0000   \n",
       "1  7b72c92c2f6c40268628ec5f14c6d590  2016-04-30 03:22:56 +0000   \n",
       "2  64d5d4a258243731dc7bbb1eef49ad74  2016-04-30 03:22:56 +0000   \n",
       "3  d4684dcdc759dd9cdf41504698d737d8  2016-06-20 08:49:52 +0000   \n",
       "4  6325b6870c54cd47be6ebfbffa620ec7  2016-06-20 08:49:52 +0000   \n",
       "\n",
       "                                         product_url  \\\n",
       "0  http://www.flipkart.com/elegance-polyester-mul...   \n",
       "1  http://www.flipkart.com/sathiyas-cotton-bath-t...   \n",
       "2  http://www.flipkart.com/eurospa-cotton-terry-f...   \n",
       "3  http://www.flipkart.com/santosh-royal-fashion-...   \n",
       "4  http://www.flipkart.com/jaipur-print-cotton-fl...   \n",
       "\n",
       "                                        product_name  \\\n",
       "0  Elegance Polyester Multicolor Abstract Eyelet ...   \n",
       "1                         Sathiyas Cotton Bath Towel   \n",
       "2                Eurospa Cotton Terry Face Towel Set   \n",
       "3  SANTOSH ROYAL FASHION Cotton Printed King size...   \n",
       "4  Jaipur Print Cotton Floral King sized Double B...   \n",
       "\n",
       "                               product_category_tree               pid  \\\n",
       "0  [\"Home Furnishing >> Curtains & Accessories >>...  CRNEG7BKMFFYHQ8Z   \n",
       "1  [\"Baby Care >> Baby Bath & Skin >> Baby Bath T...  BTWEGFZHGBXPHZUH   \n",
       "2  [\"Baby Care >> Baby Bath & Skin >> Baby Bath T...  BTWEG6SHXTDB2A2Y   \n",
       "3  [\"Home Furnishing >> Bed Linen >> Bedsheets >>...  BDSEJT9UQWHDUBH4   \n",
       "4  [\"Home Furnishing >> Bed Linen >> Bedsheets >>...  BDSEJTHNGWVGWWQU   \n",
       "\n",
       "   retail_price  discounted_price                                 image  \\\n",
       "0        1899.0             899.0  55b85ea15a1536d46b7190ad6fff8ce7.jpg   \n",
       "1         600.0             449.0  7b72c92c2f6c40268628ec5f14c6d590.jpg   \n",
       "2           NaN               NaN  64d5d4a258243731dc7bbb1eef49ad74.jpg   \n",
       "3        2699.0            1299.0  d4684dcdc759dd9cdf41504698d737d8.jpg   \n",
       "4        2599.0             698.0  6325b6870c54cd47be6ebfbffa620ec7.jpg   \n",
       "\n",
       "   is_FK_Advantage_product                                        description  \\\n",
       "0                    False  Key Features of Elegance Polyester Multicolor ...   \n",
       "1                    False  Specifications of Sathiyas Cotton Bath Towel (...   \n",
       "2                    False  Key Features of Eurospa Cotton Terry Face Towe...   \n",
       "3                    False  Key Features of SANTOSH ROYAL FASHION Cotton P...   \n",
       "4                    False  Key Features of Jaipur Print Cotton Floral Kin...   \n",
       "\n",
       "        product_rating       overall_rating                  brand  \\\n",
       "0  No rating available  No rating available               Elegance   \n",
       "1  No rating available  No rating available               Sathiyas   \n",
       "2  No rating available  No rating available                Eurospa   \n",
       "3  No rating available  No rating available  SANTOSH ROYAL FASHION   \n",
       "4  No rating available  No rating available           Jaipur Print   \n",
       "\n",
       "                              product_specifications  \n",
       "0  {\"product_specification\"=>[{\"key\"=>\"Brand\", \"v...  \n",
       "1  {\"product_specification\"=>[{\"key\"=>\"Machine Wa...  \n",
       "2  {\"product_specification\"=>[{\"key\"=>\"Material\",...  \n",
       "3  {\"product_specification\"=>[{\"key\"=>\"Brand\", \"v...  \n",
       "4  {\"product_specification\"=>[{\"key\"=>\"Machine Wa...  "
      ]
     },
     "execution_count": 2,
     "metadata": {},
     "output_type": "execute_result"
    }
   ],
   "source": [
    "df = pd.read_csv('./data/flipkart_com-ecommerce_sample_1050.csv')\n",
    "df.head()"
   ]
  },
  {
   "cell_type": "markdown",
   "metadata": {},
   "source": [
    "# Quick look at the data"
   ]
  },
  {
   "cell_type": "markdown",
   "id": "1360e4cd",
   "metadata": {},
   "source": [
    "Let's look at a few samples"
   ]
  },
  {
   "cell_type": "code",
   "execution_count": 3,
   "id": "d69a687d",
   "metadata": {},
   "outputs": [
    {
     "data": {
      "text/html": [
       "<div>\n",
       "<style scoped>\n",
       "    .dataframe tbody tr th:only-of-type {\n",
       "        vertical-align: middle;\n",
       "    }\n",
       "\n",
       "    .dataframe tbody tr th {\n",
       "        vertical-align: top;\n",
       "    }\n",
       "\n",
       "    .dataframe thead th {\n",
       "        text-align: right;\n",
       "    }\n",
       "</style>\n",
       "<table border=\"1\" class=\"dataframe\">\n",
       "  <thead>\n",
       "    <tr style=\"text-align: right;\">\n",
       "      <th></th>\n",
       "      <th>uniq_id</th>\n",
       "      <th>crawl_timestamp</th>\n",
       "      <th>product_url</th>\n",
       "      <th>product_name</th>\n",
       "      <th>product_category_tree</th>\n",
       "      <th>pid</th>\n",
       "      <th>retail_price</th>\n",
       "      <th>discounted_price</th>\n",
       "      <th>image</th>\n",
       "      <th>is_FK_Advantage_product</th>\n",
       "      <th>description</th>\n",
       "      <th>product_rating</th>\n",
       "      <th>overall_rating</th>\n",
       "      <th>brand</th>\n",
       "      <th>product_specifications</th>\n",
       "    </tr>\n",
       "  </thead>\n",
       "  <tbody>\n",
       "    <tr>\n",
       "      <th>743</th>\n",
       "      <td>d47f1cb78db4a23e2516e2d34da34c8a</td>\n",
       "      <td>2015-12-12 11:46:53 +0000</td>\n",
       "      <td>http://www.flipkart.com/nutcase-sticker-wrap-d...</td>\n",
       "      <td>Nutcase Sticker Wrap Design - Pineapple 800 ml...</td>\n",
       "      <td>[\"Kitchen &amp; Dining &gt;&gt; Containers &amp; Bottles &gt;&gt; ...</td>\n",
       "      <td>BOTEANCH6ZZZHJVD</td>\n",
       "      <td>799.0</td>\n",
       "      <td>399.0</td>\n",
       "      <td>d47f1cb78db4a23e2516e2d34da34c8a.jpg</td>\n",
       "      <td>False</td>\n",
       "      <td>Nutcase Sticker Wrap Design - Pineapple 800 ml...</td>\n",
       "      <td>No rating available</td>\n",
       "      <td>No rating available</td>\n",
       "      <td>NaN</td>\n",
       "      <td>{\"product_specification\"=&gt;[{\"key\"=&gt;\"Body Mater...</td>\n",
       "    </tr>\n",
       "    <tr>\n",
       "      <th>656</th>\n",
       "      <td>260c74b5a09272dec1a8207db3541a0d</td>\n",
       "      <td>2015-12-31 09:19:31 +0000</td>\n",
       "      <td>http://www.flipkart.com/bornbabykids-cotton-ba...</td>\n",
       "      <td>BornBabyKids Cotton Bath Towel</td>\n",
       "      <td>[\"Baby Care &gt;&gt; Baby Bath &amp; Skin &gt;&gt; Baby Bath T...</td>\n",
       "      <td>BTWEE2FFGXVH3MFW</td>\n",
       "      <td>649.0</td>\n",
       "      <td>589.0</td>\n",
       "      <td>260c74b5a09272dec1a8207db3541a0d.jpg</td>\n",
       "      <td>False</td>\n",
       "      <td>Buy BornBabyKids Cotton Bath Towel at Rs. 589 ...</td>\n",
       "      <td>No rating available</td>\n",
       "      <td>No rating available</td>\n",
       "      <td>BornBabyKids</td>\n",
       "      <td>{\"product_specification\"=&gt;[{\"key\"=&gt;\"Hooded\", \"...</td>\n",
       "    </tr>\n",
       "    <tr>\n",
       "      <th>704</th>\n",
       "      <td>7915f1c0703450d4b1446c06066d9a59</td>\n",
       "      <td>2016-01-01 19:37:22 +0000</td>\n",
       "      <td>http://www.flipkart.com/home-originals-abstrac...</td>\n",
       "      <td>Home Originals Abstract, Abstract Double Blank...</td>\n",
       "      <td>[\"Home Furnishing &gt;&gt; Bed Linen &gt;&gt; Blankets, Qu...</td>\n",
       "      <td>BLAEE2GJHZHDRDNK</td>\n",
       "      <td>2999.0</td>\n",
       "      <td>1299.0</td>\n",
       "      <td>7915f1c0703450d4b1446c06066d9a59.jpg</td>\n",
       "      <td>False</td>\n",
       "      <td>Buy Home Originals Abstract, Abstract Double B...</td>\n",
       "      <td>No rating available</td>\n",
       "      <td>No rating available</td>\n",
       "      <td>Home Originals</td>\n",
       "      <td>{\"product_specification\"=&gt;[{\"key\"=&gt;\"Brand\", \"v...</td>\n",
       "    </tr>\n",
       "    <tr>\n",
       "      <th>738</th>\n",
       "      <td>5fdb912462da9891e5b21c677ceb15e4</td>\n",
       "      <td>2016-06-26 09:25:14 +0000</td>\n",
       "      <td>http://www.flipkart.com/brass-gift-center-show...</td>\n",
       "      <td>brass gift center Showpiece  -  48 cm</td>\n",
       "      <td>[\"Home Decor &amp; Festive Needs &gt;&gt; Religion &amp; Dev...</td>\n",
       "      <td>SHIEJY5HPVJT9MUE</td>\n",
       "      <td>7999.0</td>\n",
       "      <td>4550.0</td>\n",
       "      <td>5fdb912462da9891e5b21c677ceb15e4.jpg</td>\n",
       "      <td>False</td>\n",
       "      <td>Key Features of brass gift center Showpiece  -...</td>\n",
       "      <td>No rating available</td>\n",
       "      <td>No rating available</td>\n",
       "      <td>brass gift center</td>\n",
       "      <td>{\"product_specification\"=&gt;[{\"key\"=&gt;\"Brand\", \"v...</td>\n",
       "    </tr>\n",
       "    <tr>\n",
       "      <th>496</th>\n",
       "      <td>087e83a2406dc98d941b8555356da477</td>\n",
       "      <td>2016-01-07 05:50:25 +0000</td>\n",
       "      <td>http://www.flipkart.com/sonata-7016ym04-watch/...</td>\n",
       "      <td>Sonata 7016YM04 Watch</td>\n",
       "      <td>[\"Watches &gt;&gt; Wrist Watches &gt;&gt; Sonata Wrist Wat...</td>\n",
       "      <td>WATDZ2ZQE9C7GQVK</td>\n",
       "      <td>840.0</td>\n",
       "      <td>789.0</td>\n",
       "      <td>087e83a2406dc98d941b8555356da477.jpg</td>\n",
       "      <td>False</td>\n",
       "      <td>Sonata 7016YM04 Watch - Buy Sonata 7016YM04 Wa...</td>\n",
       "      <td>No rating available</td>\n",
       "      <td>No rating available</td>\n",
       "      <td>NaN</td>\n",
       "      <td>{\"product_specification\"=&gt;{\"key\"=&gt;\"Style Code\"...</td>\n",
       "    </tr>\n",
       "  </tbody>\n",
       "</table>\n",
       "</div>"
      ],
      "text/plain": [
       "                              uniq_id            crawl_timestamp  \\\n",
       "743  d47f1cb78db4a23e2516e2d34da34c8a  2015-12-12 11:46:53 +0000   \n",
       "656  260c74b5a09272dec1a8207db3541a0d  2015-12-31 09:19:31 +0000   \n",
       "704  7915f1c0703450d4b1446c06066d9a59  2016-01-01 19:37:22 +0000   \n",
       "738  5fdb912462da9891e5b21c677ceb15e4  2016-06-26 09:25:14 +0000   \n",
       "496  087e83a2406dc98d941b8555356da477  2016-01-07 05:50:25 +0000   \n",
       "\n",
       "                                           product_url  \\\n",
       "743  http://www.flipkart.com/nutcase-sticker-wrap-d...   \n",
       "656  http://www.flipkart.com/bornbabykids-cotton-ba...   \n",
       "704  http://www.flipkart.com/home-originals-abstrac...   \n",
       "738  http://www.flipkart.com/brass-gift-center-show...   \n",
       "496  http://www.flipkart.com/sonata-7016ym04-watch/...   \n",
       "\n",
       "                                          product_name  \\\n",
       "743  Nutcase Sticker Wrap Design - Pineapple 800 ml...   \n",
       "656                     BornBabyKids Cotton Bath Towel   \n",
       "704  Home Originals Abstract, Abstract Double Blank...   \n",
       "738              brass gift center Showpiece  -  48 cm   \n",
       "496                              Sonata 7016YM04 Watch   \n",
       "\n",
       "                                 product_category_tree               pid  \\\n",
       "743  [\"Kitchen & Dining >> Containers & Bottles >> ...  BOTEANCH6ZZZHJVD   \n",
       "656  [\"Baby Care >> Baby Bath & Skin >> Baby Bath T...  BTWEE2FFGXVH3MFW   \n",
       "704  [\"Home Furnishing >> Bed Linen >> Blankets, Qu...  BLAEE2GJHZHDRDNK   \n",
       "738  [\"Home Decor & Festive Needs >> Religion & Dev...  SHIEJY5HPVJT9MUE   \n",
       "496  [\"Watches >> Wrist Watches >> Sonata Wrist Wat...  WATDZ2ZQE9C7GQVK   \n",
       "\n",
       "     retail_price  discounted_price                                 image  \\\n",
       "743         799.0             399.0  d47f1cb78db4a23e2516e2d34da34c8a.jpg   \n",
       "656         649.0             589.0  260c74b5a09272dec1a8207db3541a0d.jpg   \n",
       "704        2999.0            1299.0  7915f1c0703450d4b1446c06066d9a59.jpg   \n",
       "738        7999.0            4550.0  5fdb912462da9891e5b21c677ceb15e4.jpg   \n",
       "496         840.0             789.0  087e83a2406dc98d941b8555356da477.jpg   \n",
       "\n",
       "     is_FK_Advantage_product  \\\n",
       "743                    False   \n",
       "656                    False   \n",
       "704                    False   \n",
       "738                    False   \n",
       "496                    False   \n",
       "\n",
       "                                           description       product_rating  \\\n",
       "743  Nutcase Sticker Wrap Design - Pineapple 800 ml...  No rating available   \n",
       "656  Buy BornBabyKids Cotton Bath Towel at Rs. 589 ...  No rating available   \n",
       "704  Buy Home Originals Abstract, Abstract Double B...  No rating available   \n",
       "738  Key Features of brass gift center Showpiece  -...  No rating available   \n",
       "496  Sonata 7016YM04 Watch - Buy Sonata 7016YM04 Wa...  No rating available   \n",
       "\n",
       "          overall_rating              brand  \\\n",
       "743  No rating available                NaN   \n",
       "656  No rating available       BornBabyKids   \n",
       "704  No rating available     Home Originals   \n",
       "738  No rating available  brass gift center   \n",
       "496  No rating available                NaN   \n",
       "\n",
       "                                product_specifications  \n",
       "743  {\"product_specification\"=>[{\"key\"=>\"Body Mater...  \n",
       "656  {\"product_specification\"=>[{\"key\"=>\"Hooded\", \"...  \n",
       "704  {\"product_specification\"=>[{\"key\"=>\"Brand\", \"v...  \n",
       "738  {\"product_specification\"=>[{\"key\"=>\"Brand\", \"v...  \n",
       "496  {\"product_specification\"=>{\"key\"=>\"Style Code\"...  "
      ]
     },
     "execution_count": 3,
     "metadata": {},
     "output_type": "execute_result"
    }
   ],
   "source": [
    "df.sample(5, random_state=0)"
   ]
  },
  {
   "cell_type": "markdown",
   "id": "33e03c0d",
   "metadata": {},
   "source": [
    "For text data analysis we are going to use the **description** column and possibly the **product_name** column for the bag-of-words.\n",
    "<br>\n",
    "The **product_category_tree** column will be used to label the data."
   ]
  },
  {
   "cell_type": "markdown",
   "id": "d394c83a",
   "metadata": {},
   "source": [
    "Data types"
   ]
  },
  {
   "cell_type": "code",
   "execution_count": 4,
   "id": "0eb2b2be",
   "metadata": {
    "ExecuteTime": {
     "end_time": "2022-10-27T17:48:01.528053Z",
     "start_time": "2022-10-27T17:48:01.511602Z"
    }
   },
   "outputs": [
    {
     "name": "stdout",
     "output_type": "stream",
     "text": [
      "<class 'pandas.core.frame.DataFrame'>\n",
      "RangeIndex: 1050 entries, 0 to 1049\n",
      "Data columns (total 15 columns):\n",
      " #   Column                   Non-Null Count  Dtype  \n",
      "---  ------                   --------------  -----  \n",
      " 0   uniq_id                  1050 non-null   object \n",
      " 1   crawl_timestamp          1050 non-null   object \n",
      " 2   product_url              1050 non-null   object \n",
      " 3   product_name             1050 non-null   object \n",
      " 4   product_category_tree    1050 non-null   object \n",
      " 5   pid                      1050 non-null   object \n",
      " 6   retail_price             1049 non-null   float64\n",
      " 7   discounted_price         1049 non-null   float64\n",
      " 8   image                    1050 non-null   object \n",
      " 9   is_FK_Advantage_product  1050 non-null   bool   \n",
      " 10  description              1050 non-null   object \n",
      " 11  product_rating           1050 non-null   object \n",
      " 12  overall_rating           1050 non-null   object \n",
      " 13  brand                    712 non-null    object \n",
      " 14  product_specifications   1049 non-null   object \n",
      "dtypes: bool(1), float64(2), object(12)\n",
      "memory usage: 116.0+ KB\n"
     ]
    }
   ],
   "source": [
    "df.info()"
   ]
  },
  {
   "cell_type": "code",
   "execution_count": 5,
   "id": "e8b906a5",
   "metadata": {
    "ExecuteTime": {
     "end_time": "2022-10-27T17:48:01.536119Z",
     "start_time": "2022-10-27T17:48:01.530358Z"
    }
   },
   "outputs": [
    {
     "data": {
      "text/plain": [
       "object     12\n",
       "float64     2\n",
       "bool        1\n",
       "Name: count, dtype: int64"
      ]
     },
     "execution_count": 5,
     "metadata": {},
     "output_type": "execute_result"
    }
   ],
   "source": [
    "df.dtypes.value_counts()"
   ]
  },
  {
   "cell_type": "markdown",
   "id": "cb0d9b31",
   "metadata": {},
   "source": [
    "number of unique values"
   ]
  },
  {
   "cell_type": "code",
   "execution_count": 6,
   "id": "c217672c",
   "metadata": {
    "ExecuteTime": {
     "end_time": "2022-10-27T17:48:01.550899Z",
     "start_time": "2022-10-27T17:48:01.538121Z"
    }
   },
   "outputs": [
    {
     "data": {
      "text/plain": [
       "uniq_id                    1050\n",
       "crawl_timestamp             149\n",
       "product_url                1050\n",
       "product_name               1050\n",
       "product_category_tree       642\n",
       "pid                        1050\n",
       "retail_price                354\n",
       "discounted_price            424\n",
       "image                      1050\n",
       "is_FK_Advantage_product       2\n",
       "description                1050\n",
       "product_rating               27\n",
       "overall_rating               27\n",
       "brand                       490\n",
       "product_specifications      984\n",
       "dtype: int64"
      ]
     },
     "execution_count": 6,
     "metadata": {},
     "output_type": "execute_result"
    }
   ],
   "source": [
    "df.nunique()"
   ]
  },
  {
   "cell_type": "markdown",
   "id": "57c892d3",
   "metadata": {},
   "source": [
    "Number of unique product names"
   ]
  },
  {
   "cell_type": "code",
   "execution_count": 211,
   "id": "bb9db211",
   "metadata": {
    "ExecuteTime": {
     "end_time": "2022-10-27T17:48:01.559378Z",
     "start_time": "2022-10-27T17:48:01.555110Z"
    }
   },
   "outputs": [
    {
     "data": {
      "text/plain": [
       "1050"
      ]
     },
     "execution_count": 211,
     "metadata": {},
     "output_type": "execute_result"
    }
   ],
   "source": [
    "len(df['product_name'].unique())"
   ]
  },
  {
   "cell_type": "markdown",
   "id": "abf343db",
   "metadata": {},
   "source": [
    "Number of unique product names once converted to lowercase"
   ]
  },
  {
   "cell_type": "code",
   "execution_count": 212,
   "id": "8b3d5e49",
   "metadata": {},
   "outputs": [
    {
     "data": {
      "text/plain": [
       "1048"
      ]
     },
     "execution_count": 212,
     "metadata": {},
     "output_type": "execute_result"
    }
   ],
   "source": [
    "len(df['product_name'].str.lower().unique())"
   ]
  },
  {
   "cell_type": "markdown",
   "metadata": {},
   "source": [
    "NaN values"
   ]
  },
  {
   "cell_type": "code",
   "execution_count": 7,
   "id": "b7b9cfd8",
   "metadata": {},
   "outputs": [
    {
     "data": {
      "text/plain": [
       "brand                     338\n",
       "retail_price                1\n",
       "discounted_price            1\n",
       "product_specifications      1\n",
       "uniq_id                     0\n",
       "dtype: int64"
      ]
     },
     "execution_count": 7,
     "metadata": {},
     "output_type": "execute_result"
    }
   ],
   "source": [
    "df.isna().sum().sort_values(ascending=False)[:5]"
   ]
  },
  {
   "cell_type": "markdown",
   "id": "8e052282",
   "metadata": {},
   "source": [
    "duplicates"
   ]
  },
  {
   "cell_type": "code",
   "execution_count": 8,
   "id": "f2fd59c8",
   "metadata": {
    "ExecuteTime": {
     "end_time": "2022-10-27T17:48:01.965700Z",
     "start_time": "2022-10-27T17:48:01.954633Z"
    }
   },
   "outputs": [
    {
     "data": {
      "text/plain": [
       "0"
      ]
     },
     "execution_count": 8,
     "metadata": {},
     "output_type": "execute_result"
    }
   ],
   "source": [
    "df.duplicated().sum()"
   ]
  },
  {
   "cell_type": "code",
   "execution_count": 9,
   "id": "915d0f2b",
   "metadata": {},
   "outputs": [
    {
     "data": {
      "text/html": [
       "<div>\n",
       "<style scoped>\n",
       "    .dataframe tbody tr th:only-of-type {\n",
       "        vertical-align: middle;\n",
       "    }\n",
       "\n",
       "    .dataframe tbody tr th {\n",
       "        vertical-align: top;\n",
       "    }\n",
       "\n",
       "    .dataframe thead th {\n",
       "        text-align: right;\n",
       "    }\n",
       "</style>\n",
       "<table border=\"1\" class=\"dataframe\">\n",
       "  <thead>\n",
       "    <tr style=\"text-align: right;\">\n",
       "      <th></th>\n",
       "      <th># duplicates</th>\n",
       "    </tr>\n",
       "  </thead>\n",
       "  <tbody>\n",
       "    <tr>\n",
       "      <th>brand</th>\n",
       "      <td>564</td>\n",
       "    </tr>\n",
       "    <tr>\n",
       "      <th>crawl_timestamp</th>\n",
       "      <td>901</td>\n",
       "    </tr>\n",
       "    <tr>\n",
       "      <th>description</th>\n",
       "      <td>0</td>\n",
       "    </tr>\n",
       "    <tr>\n",
       "      <th>discounted_price</th>\n",
       "      <td>625</td>\n",
       "    </tr>\n",
       "    <tr>\n",
       "      <th>image</th>\n",
       "      <td>0</td>\n",
       "    </tr>\n",
       "    <tr>\n",
       "      <th>is_FK_Advantage_product</th>\n",
       "      <td>1048</td>\n",
       "    </tr>\n",
       "    <tr>\n",
       "      <th>overall_rating</th>\n",
       "      <td>1023</td>\n",
       "    </tr>\n",
       "    <tr>\n",
       "      <th>pid</th>\n",
       "      <td>0</td>\n",
       "    </tr>\n",
       "    <tr>\n",
       "      <th>product_category_tree</th>\n",
       "      <td>411</td>\n",
       "    </tr>\n",
       "    <tr>\n",
       "      <th>product_name</th>\n",
       "      <td>2</td>\n",
       "    </tr>\n",
       "    <tr>\n",
       "      <th>product_rating</th>\n",
       "      <td>1023</td>\n",
       "    </tr>\n",
       "    <tr>\n",
       "      <th>product_specifications</th>\n",
       "      <td>65</td>\n",
       "    </tr>\n",
       "    <tr>\n",
       "      <th>product_url</th>\n",
       "      <td>0</td>\n",
       "    </tr>\n",
       "    <tr>\n",
       "      <th>retail_price</th>\n",
       "      <td>695</td>\n",
       "    </tr>\n",
       "    <tr>\n",
       "      <th>uniq_id</th>\n",
       "      <td>0</td>\n",
       "    </tr>\n",
       "  </tbody>\n",
       "</table>\n",
       "</div>"
      ],
      "text/plain": [
       "                         # duplicates\n",
       "brand                             564\n",
       "crawl_timestamp                   901\n",
       "description                         0\n",
       "discounted_price                  625\n",
       "image                               0\n",
       "is_FK_Advantage_product          1048\n",
       "overall_rating                   1023\n",
       "pid                                 0\n",
       "product_category_tree             411\n",
       "product_name                        2\n",
       "product_rating                   1023\n",
       "product_specifications             65\n",
       "product_url                         0\n",
       "retail_price                      695\n",
       "uniq_id                             0"
      ]
     },
     "execution_count": 9,
     "metadata": {},
     "output_type": "execute_result"
    }
   ],
   "source": [
    "# Let's look at the number of duplicates by column\n",
    "n_duplicates = {}\n",
    "for col in df.columns:\n",
    "    if df[col].dtype == \"object\":\n",
    "        # lowercase before checking duplicates\n",
    "        n_duplicates[col] = df[col].str.lower().duplicated().sum()\n",
    "        continue\n",
    "    n_duplicates[col] = df.duplicated(subset=col).sum()\n",
    "\n",
    "pd.DataFrame(data={\"# duplicates\": n_duplicates})"
   ]
  },
  {
   "cell_type": "markdown",
   "metadata": {},
   "source": [
    "Decribe"
   ]
  },
  {
   "cell_type": "code",
   "execution_count": 216,
   "id": "eb93b8f2",
   "metadata": {},
   "outputs": [
    {
     "data": {
      "text/html": [
       "<div>\n",
       "<style scoped>\n",
       "    .dataframe tbody tr th:only-of-type {\n",
       "        vertical-align: middle;\n",
       "    }\n",
       "\n",
       "    .dataframe tbody tr th {\n",
       "        vertical-align: top;\n",
       "    }\n",
       "\n",
       "    .dataframe thead th {\n",
       "        text-align: right;\n",
       "    }\n",
       "</style>\n",
       "<table border=\"1\" class=\"dataframe\">\n",
       "  <thead>\n",
       "    <tr style=\"text-align: right;\">\n",
       "      <th></th>\n",
       "      <th>retail_price</th>\n",
       "      <th>discounted_price</th>\n",
       "    </tr>\n",
       "  </thead>\n",
       "  <tbody>\n",
       "    <tr>\n",
       "      <th>count</th>\n",
       "      <td>1049.000000</td>\n",
       "      <td>1049.000000</td>\n",
       "    </tr>\n",
       "    <tr>\n",
       "      <th>mean</th>\n",
       "      <td>2186.197331</td>\n",
       "      <td>1584.527169</td>\n",
       "    </tr>\n",
       "    <tr>\n",
       "      <th>std</th>\n",
       "      <td>7639.229411</td>\n",
       "      <td>7475.099680</td>\n",
       "    </tr>\n",
       "    <tr>\n",
       "      <th>min</th>\n",
       "      <td>35.000000</td>\n",
       "      <td>35.000000</td>\n",
       "    </tr>\n",
       "    <tr>\n",
       "      <th>25%</th>\n",
       "      <td>555.000000</td>\n",
       "      <td>340.000000</td>\n",
       "    </tr>\n",
       "    <tr>\n",
       "      <th>50%</th>\n",
       "      <td>999.000000</td>\n",
       "      <td>600.000000</td>\n",
       "    </tr>\n",
       "    <tr>\n",
       "      <th>75%</th>\n",
       "      <td>1999.000000</td>\n",
       "      <td>1199.000000</td>\n",
       "    </tr>\n",
       "    <tr>\n",
       "      <th>max</th>\n",
       "      <td>201000.000000</td>\n",
       "      <td>201000.000000</td>\n",
       "    </tr>\n",
       "  </tbody>\n",
       "</table>\n",
       "</div>"
      ],
      "text/plain": [
       "        retail_price  discounted_price\n",
       "count    1049.000000       1049.000000\n",
       "mean     2186.197331       1584.527169\n",
       "std      7639.229411       7475.099680\n",
       "min        35.000000         35.000000\n",
       "25%       555.000000        340.000000\n",
       "50%       999.000000        600.000000\n",
       "75%      1999.000000       1199.000000\n",
       "max    201000.000000     201000.000000"
      ]
     },
     "execution_count": 216,
     "metadata": {},
     "output_type": "execute_result"
    }
   ],
   "source": [
    "df.describe()"
   ]
  },
  {
   "cell_type": "code",
   "execution_count": 217,
   "id": "f85cec0a",
   "metadata": {
    "ExecuteTime": {
     "end_time": "2022-10-27T17:48:02.049621Z",
     "start_time": "2022-10-27T17:48:02.020356Z"
    }
   },
   "outputs": [
    {
     "data": {
      "text/html": [
       "<div>\n",
       "<style scoped>\n",
       "    .dataframe tbody tr th:only-of-type {\n",
       "        vertical-align: middle;\n",
       "    }\n",
       "\n",
       "    .dataframe tbody tr th {\n",
       "        vertical-align: top;\n",
       "    }\n",
       "\n",
       "    .dataframe thead th {\n",
       "        text-align: right;\n",
       "    }\n",
       "</style>\n",
       "<table border=\"1\" class=\"dataframe\">\n",
       "  <thead>\n",
       "    <tr style=\"text-align: right;\">\n",
       "      <th></th>\n",
       "      <th>uniq_id</th>\n",
       "      <th>crawl_timestamp</th>\n",
       "      <th>product_url</th>\n",
       "      <th>product_name</th>\n",
       "      <th>product_category_tree</th>\n",
       "      <th>pid</th>\n",
       "      <th>image</th>\n",
       "      <th>description</th>\n",
       "      <th>product_rating</th>\n",
       "      <th>overall_rating</th>\n",
       "      <th>brand</th>\n",
       "      <th>product_specifications</th>\n",
       "    </tr>\n",
       "  </thead>\n",
       "  <tbody>\n",
       "    <tr>\n",
       "      <th>count</th>\n",
       "      <td>1050</td>\n",
       "      <td>1050</td>\n",
       "      <td>1050</td>\n",
       "      <td>1050</td>\n",
       "      <td>1050</td>\n",
       "      <td>1050</td>\n",
       "      <td>1050</td>\n",
       "      <td>1050</td>\n",
       "      <td>1050</td>\n",
       "      <td>1050</td>\n",
       "      <td>712</td>\n",
       "      <td>1049</td>\n",
       "    </tr>\n",
       "    <tr>\n",
       "      <th>unique</th>\n",
       "      <td>1050</td>\n",
       "      <td>149</td>\n",
       "      <td>1050</td>\n",
       "      <td>1050</td>\n",
       "      <td>642</td>\n",
       "      <td>1050</td>\n",
       "      <td>1050</td>\n",
       "      <td>1050</td>\n",
       "      <td>27</td>\n",
       "      <td>27</td>\n",
       "      <td>490</td>\n",
       "      <td>984</td>\n",
       "    </tr>\n",
       "    <tr>\n",
       "      <th>top</th>\n",
       "      <td>55b85ea15a1536d46b7190ad6fff8ce7</td>\n",
       "      <td>2015-12-01 12:40:44 +0000</td>\n",
       "      <td>http://www.flipkart.com/elegance-polyester-mul...</td>\n",
       "      <td>Elegance Polyester Multicolor Abstract Eyelet ...</td>\n",
       "      <td>[\"Home Furnishing &gt;&gt; Bed Linen &gt;&gt; Blankets, Qu...</td>\n",
       "      <td>CRNEG7BKMFFYHQ8Z</td>\n",
       "      <td>55b85ea15a1536d46b7190ad6fff8ce7.jpg</td>\n",
       "      <td>Key Features of Elegance Polyester Multicolor ...</td>\n",
       "      <td>No rating available</td>\n",
       "      <td>No rating available</td>\n",
       "      <td>PRINT SHAPES</td>\n",
       "      <td>{\"product_specification\"=&gt;[{\"key\"=&gt;\"Type\", \"va...</td>\n",
       "    </tr>\n",
       "    <tr>\n",
       "      <th>freq</th>\n",
       "      <td>1</td>\n",
       "      <td>150</td>\n",
       "      <td>1</td>\n",
       "      <td>1</td>\n",
       "      <td>56</td>\n",
       "      <td>1</td>\n",
       "      <td>1</td>\n",
       "      <td>1</td>\n",
       "      <td>889</td>\n",
       "      <td>889</td>\n",
       "      <td>11</td>\n",
       "      <td>22</td>\n",
       "    </tr>\n",
       "  </tbody>\n",
       "</table>\n",
       "</div>"
      ],
      "text/plain": [
       "                                 uniq_id            crawl_timestamp  \\\n",
       "count                               1050                       1050   \n",
       "unique                              1050                        149   \n",
       "top     55b85ea15a1536d46b7190ad6fff8ce7  2015-12-01 12:40:44 +0000   \n",
       "freq                                   1                        150   \n",
       "\n",
       "                                              product_url  \\\n",
       "count                                                1050   \n",
       "unique                                               1050   \n",
       "top     http://www.flipkart.com/elegance-polyester-mul...   \n",
       "freq                                                    1   \n",
       "\n",
       "                                             product_name  \\\n",
       "count                                                1050   \n",
       "unique                                               1050   \n",
       "top     Elegance Polyester Multicolor Abstract Eyelet ...   \n",
       "freq                                                    1   \n",
       "\n",
       "                                    product_category_tree               pid  \\\n",
       "count                                                1050              1050   \n",
       "unique                                                642              1050   \n",
       "top     [\"Home Furnishing >> Bed Linen >> Blankets, Qu...  CRNEG7BKMFFYHQ8Z   \n",
       "freq                                                   56                 1   \n",
       "\n",
       "                                       image  \\\n",
       "count                                   1050   \n",
       "unique                                  1050   \n",
       "top     55b85ea15a1536d46b7190ad6fff8ce7.jpg   \n",
       "freq                                       1   \n",
       "\n",
       "                                              description  \\\n",
       "count                                                1050   \n",
       "unique                                               1050   \n",
       "top     Key Features of Elegance Polyester Multicolor ...   \n",
       "freq                                                    1   \n",
       "\n",
       "             product_rating       overall_rating         brand  \\\n",
       "count                  1050                 1050           712   \n",
       "unique                   27                   27           490   \n",
       "top     No rating available  No rating available  PRINT SHAPES   \n",
       "freq                    889                  889            11   \n",
       "\n",
       "                                   product_specifications  \n",
       "count                                                1049  \n",
       "unique                                                984  \n",
       "top     {\"product_specification\"=>[{\"key\"=>\"Type\", \"va...  \n",
       "freq                                                   22  "
      ]
     },
     "execution_count": 217,
     "metadata": {},
     "output_type": "execute_result"
    }
   ],
   "source": [
    "df.describe(include=object)"
   ]
  },
  {
   "cell_type": "markdown",
   "metadata": {},
   "source": [
    "# Exploratory Data Analysis"
   ]
  },
  {
   "cell_type": "markdown",
   "id": "bd3c5061",
   "metadata": {},
   "source": [
    "We first select the columns in which we are interested."
   ]
  },
  {
   "cell_type": "code",
   "execution_count": 10,
   "id": "623e8c58",
   "metadata": {},
   "outputs": [
    {
     "data": {
      "text/html": [
       "<div>\n",
       "<style scoped>\n",
       "    .dataframe tbody tr th:only-of-type {\n",
       "        vertical-align: middle;\n",
       "    }\n",
       "\n",
       "    .dataframe tbody tr th {\n",
       "        vertical-align: top;\n",
       "    }\n",
       "\n",
       "    .dataframe thead th {\n",
       "        text-align: right;\n",
       "    }\n",
       "</style>\n",
       "<table border=\"1\" class=\"dataframe\">\n",
       "  <thead>\n",
       "    <tr style=\"text-align: right;\">\n",
       "      <th></th>\n",
       "      <th>product_name</th>\n",
       "      <th>description</th>\n",
       "      <th>product_category_tree</th>\n",
       "    </tr>\n",
       "  </thead>\n",
       "  <tbody>\n",
       "    <tr>\n",
       "      <th>0</th>\n",
       "      <td>Elegance Polyester Multicolor Abstract Eyelet ...</td>\n",
       "      <td>Key Features of Elegance Polyester Multicolor ...</td>\n",
       "      <td>[\"Home Furnishing &gt;&gt; Curtains &amp; Accessories &gt;&gt;...</td>\n",
       "    </tr>\n",
       "    <tr>\n",
       "      <th>1</th>\n",
       "      <td>Sathiyas Cotton Bath Towel</td>\n",
       "      <td>Specifications of Sathiyas Cotton Bath Towel (...</td>\n",
       "      <td>[\"Baby Care &gt;&gt; Baby Bath &amp; Skin &gt;&gt; Baby Bath T...</td>\n",
       "    </tr>\n",
       "    <tr>\n",
       "      <th>2</th>\n",
       "      <td>Eurospa Cotton Terry Face Towel Set</td>\n",
       "      <td>Key Features of Eurospa Cotton Terry Face Towe...</td>\n",
       "      <td>[\"Baby Care &gt;&gt; Baby Bath &amp; Skin &gt;&gt; Baby Bath T...</td>\n",
       "    </tr>\n",
       "    <tr>\n",
       "      <th>3</th>\n",
       "      <td>SANTOSH ROYAL FASHION Cotton Printed King size...</td>\n",
       "      <td>Key Features of SANTOSH ROYAL FASHION Cotton P...</td>\n",
       "      <td>[\"Home Furnishing &gt;&gt; Bed Linen &gt;&gt; Bedsheets &gt;&gt;...</td>\n",
       "    </tr>\n",
       "    <tr>\n",
       "      <th>4</th>\n",
       "      <td>Jaipur Print Cotton Floral King sized Double B...</td>\n",
       "      <td>Key Features of Jaipur Print Cotton Floral Kin...</td>\n",
       "      <td>[\"Home Furnishing &gt;&gt; Bed Linen &gt;&gt; Bedsheets &gt;&gt;...</td>\n",
       "    </tr>\n",
       "  </tbody>\n",
       "</table>\n",
       "</div>"
      ],
      "text/plain": [
       "                                        product_name  \\\n",
       "0  Elegance Polyester Multicolor Abstract Eyelet ...   \n",
       "1                         Sathiyas Cotton Bath Towel   \n",
       "2                Eurospa Cotton Terry Face Towel Set   \n",
       "3  SANTOSH ROYAL FASHION Cotton Printed King size...   \n",
       "4  Jaipur Print Cotton Floral King sized Double B...   \n",
       "\n",
       "                                         description  \\\n",
       "0  Key Features of Elegance Polyester Multicolor ...   \n",
       "1  Specifications of Sathiyas Cotton Bath Towel (...   \n",
       "2  Key Features of Eurospa Cotton Terry Face Towe...   \n",
       "3  Key Features of SANTOSH ROYAL FASHION Cotton P...   \n",
       "4  Key Features of Jaipur Print Cotton Floral Kin...   \n",
       "\n",
       "                               product_category_tree  \n",
       "0  [\"Home Furnishing >> Curtains & Accessories >>...  \n",
       "1  [\"Baby Care >> Baby Bath & Skin >> Baby Bath T...  \n",
       "2  [\"Baby Care >> Baby Bath & Skin >> Baby Bath T...  \n",
       "3  [\"Home Furnishing >> Bed Linen >> Bedsheets >>...  \n",
       "4  [\"Home Furnishing >> Bed Linen >> Bedsheets >>...  "
      ]
     },
     "execution_count": 10,
     "metadata": {},
     "output_type": "execute_result"
    }
   ],
   "source": [
    "df_text = df[['product_name','description', 'product_category_tree']]\n",
    "df_text.head()"
   ]
  },
  {
   "cell_type": "markdown",
   "metadata": {},
   "source": [
    "## Categories\n",
    "\n",
    "We are going to extract the categories from the **product_category_tree** column."
   ]
  },
  {
   "cell_type": "code",
   "execution_count": 11,
   "id": "35f3869e",
   "metadata": {
    "ExecuteTime": {
     "end_time": "2022-10-27T17:48:02.099484Z",
     "start_time": "2022-10-27T17:48:02.095659Z"
    }
   },
   "outputs": [
    {
     "data": {
      "text/plain": [
       "642"
      ]
     },
     "execution_count": 11,
     "metadata": {},
     "output_type": "execute_result"
    }
   ],
   "source": [
    "# number of unique values\n",
    "df_text['product_category_tree'].unique().size"
   ]
  },
  {
   "cell_type": "code",
   "execution_count": 12,
   "id": "6b2fe9a2",
   "metadata": {
    "ExecuteTime": {
     "end_time": "2022-10-27T17:48:02.107621Z",
     "start_time": "2022-10-27T17:48:02.103699Z"
    }
   },
   "outputs": [
    {
     "data": {
      "text/plain": [
       "array(['[\"Home Furnishing >> Curtains & Accessories >> Curtains >> Ville Style Polyester Maroon Floral Eyelet Door ...\"]',\n",
       "       '[\"Home Decor & Festive Needs >> Showpieces >> Ethnic >> Lal Haveli Ethnic\"]',\n",
       "       '[\"Watches >> Wrist Watches >> Perucci Wrist Watches\"]',\n",
       "       '[\"Home Furnishing >> Bed Linen >> Blankets, Quilts & Dohars\"]',\n",
       "       '[\"Kitchen & Dining >> Cookware >> Pots & Pans >> Woks & Kadhais >> Kalash Woks & Kadhais\"]',\n",
       "       '[\"Beauty and Personal Care >> Body and Skin Care >> Face Care >> Sunscreen >> Oriflame Sweden Sunscreen\"]',\n",
       "       '[\"Computers >> Tablet Accessories >> Keyboards >> RoQ Keyboards >> RoQ Slim Multimedia 105key Flexible Wired USB Fl...\"]',\n",
       "       '[\"Home Decor & Festive Needs >> Table Decor & Handicrafts >> Showpieces >> Religious Idols >> Diviniti Religious Idols\"]',\n",
       "       '[\"Watches >> Wrist Watches >> Sonata Wrist Watches\"]',\n",
       "       '[\"Kitchen & Dining >> Kitchen Tools >> Kitchen Implements >> Pizza Cutters >> King International Pizza Cutters\"]'],\n",
       "      dtype=object)"
      ]
     },
     "execution_count": 12,
     "metadata": {},
     "output_type": "execute_result"
    }
   ],
   "source": [
    "df_text['product_category_tree'].sample(10).values"
   ]
  },
  {
   "cell_type": "code",
   "execution_count": 13,
   "id": "2a80efd0",
   "metadata": {
    "ExecuteTime": {
     "end_time": "2022-10-27T17:48:02.279706Z",
     "start_time": "2022-10-27T17:48:02.109381Z"
    }
   },
   "outputs": [
    {
     "data": {
      "text/plain": [
       "2       Baby Care >> Baby Bath & Skin >> Baby Bath Tow...\n",
       "723     Home Furnishing >> Kitchen & Dining Linen >> T...\n",
       "281     Home Furnishing >> Living >> Sofa Covers >> Bh...\n",
       "612     Baby Care >> Feeding & Nursing >> Bibs & Hanki...\n",
       "45      Kitchen & Dining >> Coffee Mugs >> AKUP Coffee...\n",
       "1007    Beauty and Personal Care >> Bath and Spa >> So...\n",
       "242     Kitchen & Dining >> Cookware >> Pots & Pans >>...\n",
       "868               Home Furnishing >> Bath Linen >> Towels\n",
       "521      Watches >> Wrist Watches >> Maxima Wrist Watches\n",
       "328     Beauty and Personal Care >> Fragrances >> Deod...\n",
       "Name: product_category_tree, dtype: object"
      ]
     },
     "execution_count": 13,
     "metadata": {},
     "output_type": "execute_result"
    }
   ],
   "source": [
    "# remove special characters\n",
    "df_text.loc[:, 'product_category_tree'] = df_text['product_category_tree'].str.replace('[', '')\n",
    "df_text.loc[:, 'product_category_tree'] = df_text['product_category_tree'].str.replace('\"', '')\n",
    "df_text.loc[:, 'product_category_tree'] = df_text['product_category_tree'].str.replace(']', '')\n",
    "df_text.loc[:, 'product_category_tree'].sample(10)"
   ]
  },
  {
   "cell_type": "code",
   "execution_count": 14,
   "id": "3d5cd735",
   "metadata": {
    "ExecuteTime": {
     "end_time": "2022-10-27T17:48:02.296793Z",
     "start_time": "2022-10-27T17:48:02.281671Z"
    }
   },
   "outputs": [
    {
     "data": {
      "text/plain": [
       "0       [Home Furnishing ,  Curtains & Accessories ,  ...\n",
       "1       [Baby Care ,  Baby Bath & Skin ,  Baby Bath To...\n",
       "2       [Baby Care ,  Baby Bath & Skin ,  Baby Bath To...\n",
       "3       [Home Furnishing ,  Bed Linen ,  Bedsheets ,  ...\n",
       "4       [Home Furnishing ,  Bed Linen ,  Bedsheets ,  ...\n",
       "                              ...                        \n",
       "1045    [Baby Care ,  Baby & Kids Gifts ,  Stickers , ...\n",
       "1046    [Baby Care ,  Baby & Kids Gifts ,  Stickers , ...\n",
       "1047    [Baby Care ,  Baby & Kids Gifts ,  Stickers , ...\n",
       "1048    [Baby Care ,  Baby & Kids Gifts ,  Stickers , ...\n",
       "1049    [Baby Care ,  Baby & Kids Gifts ,  Stickers , ...\n",
       "Name: product_category_tree, Length: 1050, dtype: object"
      ]
     },
     "execution_count": 14,
     "metadata": {},
     "output_type": "execute_result"
    }
   ],
   "source": [
    "# transform paths into list of strings\n",
    "df_text.loc[:, 'product_category_tree'] = df_text['product_category_tree'].str.split('>>')\n",
    "df_text['product_category_tree']"
   ]
  },
  {
   "cell_type": "code",
   "execution_count": 15,
   "id": "ff547770",
   "metadata": {
    "ExecuteTime": {
     "end_time": "2022-10-27T17:48:02.303872Z",
     "start_time": "2022-10-27T17:48:02.298551Z"
    }
   },
   "outputs": [
    {
     "data": {
      "text/plain": [
       "0       Home Furnishing \n",
       "1             Baby Care \n",
       "2             Baby Care \n",
       "3       Home Furnishing \n",
       "4       Home Furnishing \n",
       "              ...       \n",
       "1045          Baby Care \n",
       "1046          Baby Care \n",
       "1047          Baby Care \n",
       "1048          Baby Care \n",
       "1049          Baby Care \n",
       "Name: product_category_tree, Length: 1050, dtype: object"
      ]
     },
     "execution_count": 15,
     "metadata": {},
     "output_type": "execute_result"
    }
   ],
   "source": [
    "# keep only the first element of the list that corresponds to the object category\n",
    "categories = df_text['product_category_tree'].apply(lambda x: x[0])\n",
    "categories"
   ]
  },
  {
   "cell_type": "code",
   "execution_count": 16,
   "id": "c3afffe2",
   "metadata": {
    "ExecuteTime": {
     "end_time": "2022-10-27T17:48:02.309039Z",
     "start_time": "2022-10-27T17:48:02.305559Z"
    }
   },
   "outputs": [
    {
     "data": {
      "text/plain": [
       "7"
      ]
     },
     "execution_count": 16,
     "metadata": {},
     "output_type": "execute_result"
    }
   ],
   "source": [
    "categories.unique().size"
   ]
  },
  {
   "cell_type": "code",
   "execution_count": 17,
   "id": "2678d071",
   "metadata": {
    "ExecuteTime": {
     "end_time": "2022-10-27T17:48:02.314018Z",
     "start_time": "2022-10-27T17:48:02.310697Z"
    }
   },
   "outputs": [
    {
     "data": {
      "text/plain": [
       "array(['Home Furnishing ', 'Baby Care ', 'Watches ',\n",
       "       'Home Decor & Festive Needs ', 'Kitchen & Dining ',\n",
       "       'Beauty and Personal Care ', 'Computers '], dtype=object)"
      ]
     },
     "execution_count": 17,
     "metadata": {},
     "output_type": "execute_result"
    }
   ],
   "source": [
    "categories.unique()"
   ]
  },
  {
   "cell_type": "code",
   "execution_count": 21,
   "id": "27b976ca",
   "metadata": {
    "ExecuteTime": {
     "end_time": "2022-10-27T17:48:02.318410Z",
     "start_time": "2022-10-27T17:48:02.315664Z"
    }
   },
   "outputs": [],
   "source": [
    "# remove leading and trailing whitespaces\n",
    "categories = categories.str.strip()"
   ]
  },
  {
   "cell_type": "code",
   "execution_count": 22,
   "id": "44bc1040",
   "metadata": {
    "ExecuteTime": {
     "end_time": "2022-10-27T17:48:02.323811Z",
     "start_time": "2022-10-27T17:48:02.320041Z"
    }
   },
   "outputs": [
    {
     "data": {
      "text/plain": [
       "array(['Home Furnishing', 'Baby Care', 'Watches',\n",
       "       'Home Decor & Festive Needs', 'Kitchen & Dining',\n",
       "       'Beauty and Personal Care', 'Computers'], dtype=object)"
      ]
     },
     "execution_count": 22,
     "metadata": {},
     "output_type": "execute_result"
    }
   ],
   "source": [
    "categories.unique()"
   ]
  },
  {
   "cell_type": "code",
   "execution_count": 23,
   "id": "1df2f0bd",
   "metadata": {
    "ExecuteTime": {
     "end_time": "2022-10-27T17:48:02.330189Z",
     "start_time": "2022-10-27T17:48:02.325447Z"
    }
   },
   "outputs": [
    {
     "data": {
      "text/plain": [
       "product_category_tree\n",
       "Home Furnishing               150\n",
       "Baby Care                     150\n",
       "Watches                       150\n",
       "Home Decor & Festive Needs    150\n",
       "Kitchen & Dining              150\n",
       "Beauty and Personal Care      150\n",
       "Computers                     150\n",
       "Name: count, dtype: int64"
      ]
     },
     "execution_count": 23,
     "metadata": {},
     "output_type": "execute_result"
    }
   ],
   "source": [
    "categories.value_counts()"
   ]
  },
  {
   "cell_type": "markdown",
   "id": "08d39da1",
   "metadata": {},
   "source": [
    "The dataset is balanced : we have an equal number of samples in each category."
   ]
  },
  {
   "cell_type": "code",
   "execution_count": 24,
   "id": "b7dbf296",
   "metadata": {
    "ExecuteTime": {
     "end_time": "2022-10-27T17:48:02.351614Z",
     "start_time": "2022-10-27T17:48:02.332224Z"
    }
   },
   "outputs": [
    {
     "data": {
      "text/html": [
       "<div>\n",
       "<style scoped>\n",
       "    .dataframe tbody tr th:only-of-type {\n",
       "        vertical-align: middle;\n",
       "    }\n",
       "\n",
       "    .dataframe tbody tr th {\n",
       "        vertical-align: top;\n",
       "    }\n",
       "\n",
       "    .dataframe thead th {\n",
       "        text-align: right;\n",
       "    }\n",
       "</style>\n",
       "<table border=\"1\" class=\"dataframe\">\n",
       "  <thead>\n",
       "    <tr style=\"text-align: right;\">\n",
       "      <th></th>\n",
       "      <th>product_name</th>\n",
       "      <th>description</th>\n",
       "      <th>category</th>\n",
       "    </tr>\n",
       "  </thead>\n",
       "  <tbody>\n",
       "    <tr>\n",
       "      <th>0</th>\n",
       "      <td>Elegance Polyester Multicolor Abstract Eyelet ...</td>\n",
       "      <td>Key Features of Elegance Polyester Multicolor ...</td>\n",
       "      <td>Home Furnishing</td>\n",
       "    </tr>\n",
       "    <tr>\n",
       "      <th>1</th>\n",
       "      <td>Sathiyas Cotton Bath Towel</td>\n",
       "      <td>Specifications of Sathiyas Cotton Bath Towel (...</td>\n",
       "      <td>Baby Care</td>\n",
       "    </tr>\n",
       "    <tr>\n",
       "      <th>2</th>\n",
       "      <td>Eurospa Cotton Terry Face Towel Set</td>\n",
       "      <td>Key Features of Eurospa Cotton Terry Face Towe...</td>\n",
       "      <td>Baby Care</td>\n",
       "    </tr>\n",
       "    <tr>\n",
       "      <th>3</th>\n",
       "      <td>SANTOSH ROYAL FASHION Cotton Printed King size...</td>\n",
       "      <td>Key Features of SANTOSH ROYAL FASHION Cotton P...</td>\n",
       "      <td>Home Furnishing</td>\n",
       "    </tr>\n",
       "    <tr>\n",
       "      <th>4</th>\n",
       "      <td>Jaipur Print Cotton Floral King sized Double B...</td>\n",
       "      <td>Key Features of Jaipur Print Cotton Floral Kin...</td>\n",
       "      <td>Home Furnishing</td>\n",
       "    </tr>\n",
       "  </tbody>\n",
       "</table>\n",
       "</div>"
      ],
      "text/plain": [
       "                                        product_name  \\\n",
       "0  Elegance Polyester Multicolor Abstract Eyelet ...   \n",
       "1                         Sathiyas Cotton Bath Towel   \n",
       "2                Eurospa Cotton Terry Face Towel Set   \n",
       "3  SANTOSH ROYAL FASHION Cotton Printed King size...   \n",
       "4  Jaipur Print Cotton Floral King sized Double B...   \n",
       "\n",
       "                                         description         category  \n",
       "0  Key Features of Elegance Polyester Multicolor ...  Home Furnishing  \n",
       "1  Specifications of Sathiyas Cotton Bath Towel (...        Baby Care  \n",
       "2  Key Features of Eurospa Cotton Terry Face Towe...        Baby Care  \n",
       "3  Key Features of SANTOSH ROYAL FASHION Cotton P...  Home Furnishing  \n",
       "4  Key Features of Jaipur Print Cotton Floral Kin...  Home Furnishing  "
      ]
     },
     "execution_count": 24,
     "metadata": {},
     "output_type": "execute_result"
    }
   ],
   "source": [
    "df_text = df_text.assign(category=categories)\n",
    "# df_text.insert(3, \"category\", categories)\n",
    "df_text = df_text.drop(columns=['product_category_tree'])\n",
    "df_text.head()"
   ]
  },
  {
   "cell_type": "markdown",
   "metadata": {},
   "source": [
    "## Description length"
   ]
  },
  {
   "cell_type": "code",
   "execution_count": 25,
   "id": "a6941df8",
   "metadata": {},
   "outputs": [
    {
     "data": {
      "text/plain": [
       "0    1420\n",
       "1     444\n",
       "2    1258\n",
       "3     858\n",
       "4    1197\n",
       "Name: description, dtype: int64"
      ]
     },
     "execution_count": 25,
     "metadata": {},
     "output_type": "execute_result"
    }
   ],
   "source": [
    "len_descriptions = df_text['description'].apply(lambda text: len(text))\n",
    "len_descriptions.head()"
   ]
  },
  {
   "cell_type": "code",
   "execution_count": 26,
   "id": "9cca1fc9",
   "metadata": {
    "ExecuteTime": {
     "end_time": "2022-10-27T17:48:02.384108Z",
     "start_time": "2022-10-27T17:48:02.377487Z"
    }
   },
   "outputs": [
    {
     "data": {
      "text/plain": [
       "count    1050.000000\n",
       "mean      473.820952\n",
       "std       457.910422\n",
       "min       109.000000\n",
       "25%       192.000000\n",
       "50%       278.000000\n",
       "75%       588.250000\n",
       "max      3490.000000\n",
       "Name: description, dtype: float64"
      ]
     },
     "execution_count": 26,
     "metadata": {},
     "output_type": "execute_result"
    }
   ],
   "source": [
    "len_descriptions.describe()"
   ]
  },
  {
   "cell_type": "code",
   "execution_count": 27,
   "id": "92d3e6a7",
   "metadata": {
    "ExecuteTime": {
     "end_time": "2022-10-27T17:48:02.545737Z",
     "start_time": "2022-10-27T17:48:02.385891Z"
    }
   },
   "outputs": [
    {
     "data": {
      "image/png": "[encoded data removed]",
      "text/plain": [
       "<Figure size 640x480 with 1 Axes>"
      ]
     },
     "metadata": {},
     "output_type": "display_data"
    }
   ],
   "source": [
    "sns.boxplot(x=len_descriptions);"
   ]
  },
  {
   "cell_type": "code",
   "execution_count": 28,
   "id": "3a0f32bb",
   "metadata": {
    "ExecuteTime": {
     "end_time": "2022-10-27T17:48:02.973688Z",
     "start_time": "2022-10-27T17:48:02.547550Z"
    }
   },
   "outputs": [
    {
     "data": {
      "image/png": "[encoded data removed]",
      "text/plain": [
       "<Figure size 500x500 with 1 Axes>"
      ]
     },
     "metadata": {},
     "output_type": "display_data"
    }
   ],
   "source": [
    "sns.displot(len_descriptions);"
   ]
  },
  {
   "cell_type": "code",
   "execution_count": 29,
   "id": "d141effa",
   "metadata": {},
   "outputs": [
    {
     "data": {
      "image/png": "[encoded data removed]",
      "text/plain": [
       "<Figure size 500x500 with 1 Axes>"
      ]
     },
     "metadata": {},
     "output_type": "display_data"
    }
   ],
   "source": [
    "sns.displot(len_descriptions, log_scale=True);"
   ]
  },
  {
   "cell_type": "markdown",
   "metadata": {},
   "source": [
    "## Corpus and documents exploration"
   ]
  },
  {
   "cell_type": "code",
   "execution_count": 30,
   "id": "81df9e56",
   "metadata": {},
   "outputs": [
    {
     "data": {
      "text/html": [
       "<div>\n",
       "<style scoped>\n",
       "    .dataframe tbody tr th:only-of-type {\n",
       "        vertical-align: middle;\n",
       "    }\n",
       "\n",
       "    .dataframe tbody tr th {\n",
       "        vertical-align: top;\n",
       "    }\n",
       "\n",
       "    .dataframe thead th {\n",
       "        text-align: right;\n",
       "    }\n",
       "</style>\n",
       "<table border=\"1\" class=\"dataframe\">\n",
       "  <thead>\n",
       "    <tr style=\"text-align: right;\">\n",
       "      <th></th>\n",
       "      <th>product_name</th>\n",
       "      <th>description</th>\n",
       "      <th>category</th>\n",
       "    </tr>\n",
       "  </thead>\n",
       "  <tbody>\n",
       "    <tr>\n",
       "      <th>743</th>\n",
       "      <td>Nutcase Sticker Wrap Design - Pineapple 800 ml...</td>\n",
       "      <td>Nutcase Sticker Wrap Design - Pineapple 800 ml...</td>\n",
       "      <td>Kitchen &amp; Dining</td>\n",
       "    </tr>\n",
       "    <tr>\n",
       "      <th>656</th>\n",
       "      <td>BornBabyKids Cotton Bath Towel</td>\n",
       "      <td>Buy BornBabyKids Cotton Bath Towel at Rs. 589 ...</td>\n",
       "      <td>Baby Care</td>\n",
       "    </tr>\n",
       "    <tr>\n",
       "      <th>704</th>\n",
       "      <td>Home Originals Abstract, Abstract Double Blank...</td>\n",
       "      <td>Buy Home Originals Abstract, Abstract Double B...</td>\n",
       "      <td>Home Furnishing</td>\n",
       "    </tr>\n",
       "    <tr>\n",
       "      <th>738</th>\n",
       "      <td>brass gift center Showpiece  -  48 cm</td>\n",
       "      <td>Key Features of brass gift center Showpiece  -...</td>\n",
       "      <td>Home Decor &amp; Festive Needs</td>\n",
       "    </tr>\n",
       "    <tr>\n",
       "      <th>496</th>\n",
       "      <td>Sonata 7016YM04 Watch</td>\n",
       "      <td>Sonata 7016YM04 Watch - Buy Sonata 7016YM04 Wa...</td>\n",
       "      <td>Watches</td>\n",
       "    </tr>\n",
       "    <tr>\n",
       "      <th>27</th>\n",
       "      <td>Disney DW100405 Digital Watch  - For Boys</td>\n",
       "      <td>Disney DW100405 Digital Watch  - For Boys - Bu...</td>\n",
       "      <td>Watches</td>\n",
       "    </tr>\n",
       "    <tr>\n",
       "      <th>31</th>\n",
       "      <td>Lenco Bdblue Tango Analog Watch  - For Men, Boys</td>\n",
       "      <td>Lenco Bdblue Tango Analog Watch  - For Men, Bo...</td>\n",
       "      <td>Watches</td>\n",
       "    </tr>\n",
       "    <tr>\n",
       "      <th>553</th>\n",
       "      <td>Sonata 8974PP01 Analog Watch  - For Women</td>\n",
       "      <td>Sonata 8974PP01 Analog Watch  - For Women - Bu...</td>\n",
       "      <td>Watches</td>\n",
       "    </tr>\n",
       "    <tr>\n",
       "      <th>682</th>\n",
       "      <td>VLCC Natural Sciences Oil Free Sunscreen Gel S...</td>\n",
       "      <td>Flipkart.com: Buy VLCC Natural Sciences Oil Fr...</td>\n",
       "      <td>Beauty and Personal Care</td>\n",
       "    </tr>\n",
       "    <tr>\n",
       "      <th>495</th>\n",
       "      <td>Sonata 7007YL08 Watch</td>\n",
       "      <td>Sonata 7007YL08 Watch - Buy Sonata 7007YL08 Wa...</td>\n",
       "      <td>Watches</td>\n",
       "    </tr>\n",
       "  </tbody>\n",
       "</table>\n",
       "</div>"
      ],
      "text/plain": [
       "                                          product_name  \\\n",
       "743  Nutcase Sticker Wrap Design - Pineapple 800 ml...   \n",
       "656                     BornBabyKids Cotton Bath Towel   \n",
       "704  Home Originals Abstract, Abstract Double Blank...   \n",
       "738              brass gift center Showpiece  -  48 cm   \n",
       "496                              Sonata 7016YM04 Watch   \n",
       "27           Disney DW100405 Digital Watch  - For Boys   \n",
       "31    Lenco Bdblue Tango Analog Watch  - For Men, Boys   \n",
       "553          Sonata 8974PP01 Analog Watch  - For Women   \n",
       "682  VLCC Natural Sciences Oil Free Sunscreen Gel S...   \n",
       "495                              Sonata 7007YL08 Watch   \n",
       "\n",
       "                                           description  \\\n",
       "743  Nutcase Sticker Wrap Design - Pineapple 800 ml...   \n",
       "656  Buy BornBabyKids Cotton Bath Towel at Rs. 589 ...   \n",
       "704  Buy Home Originals Abstract, Abstract Double B...   \n",
       "738  Key Features of brass gift center Showpiece  -...   \n",
       "496  Sonata 7016YM04 Watch - Buy Sonata 7016YM04 Wa...   \n",
       "27   Disney DW100405 Digital Watch  - For Boys - Bu...   \n",
       "31   Lenco Bdblue Tango Analog Watch  - For Men, Bo...   \n",
       "553  Sonata 8974PP01 Analog Watch  - For Women - Bu...   \n",
       "682  Flipkart.com: Buy VLCC Natural Sciences Oil Fr...   \n",
       "495  Sonata 7007YL08 Watch - Buy Sonata 7007YL08 Wa...   \n",
       "\n",
       "                       category  \n",
       "743            Kitchen & Dining  \n",
       "656                   Baby Care  \n",
       "704             Home Furnishing  \n",
       "738  Home Decor & Festive Needs  \n",
       "496                     Watches  \n",
       "27                      Watches  \n",
       "31                      Watches  \n",
       "553                     Watches  \n",
       "682    Beauty and Personal Care  \n",
       "495                     Watches  "
      ]
     },
     "execution_count": 30,
     "metadata": {},
     "output_type": "execute_result"
    }
   ],
   "source": [
    "df_text_samp = df_text.sample(10, random_state=0)\n",
    "df_text_samp"
   ]
  },
  {
   "cell_type": "code",
   "execution_count": 31,
   "id": "db36d977",
   "metadata": {
    "ExecuteTime": {
     "end_time": "2022-10-27T17:48:03.893728Z",
     "start_time": "2022-10-27T17:48:03.890087Z"
    }
   },
   "outputs": [
    {
     "data": {
      "text/plain": [
       "['Nutcase Sticker Wrap Design - Pineapple 800 ml Bottle (Pack of 1, Multicolor)\\r\\n                     ',\n",
       " 'Buy BornBabyKids Cotton Bath Towel at Rs. 589 at Flipkart.com. Only Genuine Products. Free Shipping.',\n",
       " 'Buy Home Originals Abstract, Abstract Double Blanket Multicolor at Rs. 1299 at Flipkart.com. Only Ge',\n",
       " 'Key Features of brass gift center Showpiece  -  48 cm Brass Height - 48 cm Width - 12 cm Weight - 37',\n",
       " 'Sonata 7016YM04 Watch - Buy Sonata 7016YM04 Watch  7016YM04 Online at Rs.789 in India Only at Flipka',\n",
       " 'Disney DW100405 Digital Watch  - For Boys - Buy Disney DW100405 Digital Watch  - For Boys  DW100405 ',\n",
       " 'Lenco Bdblue Tango Analog Watch  - For Men, Boys - Buy Lenco Bdblue Tango Analog Watch  - For Men, B',\n",
       " 'Sonata 8974PP01 Analog Watch  - For Women - Buy Sonata 8974PP01 Analog Watch  - For Women  8974PP01 ',\n",
       " 'Flipkart.com: Buy VLCC Natural Sciences Oil Free Sunscreen Gel SPF 15 (Pack of 2) - SPF 15 for Rs. 2',\n",
       " 'Sonata 7007YL08 Watch - Buy Sonata 7007YL08 Watch  7007YL08 Online at Rs.849 in India Only at Flipka']"
      ]
     },
     "execution_count": 31,
     "metadata": {},
     "output_type": "execute_result"
    }
   ],
   "source": [
    "# display the first 100 characters of the sample descriptions\n",
    "[val[:100] for val in df_text_samp['description'].values]"
   ]
  },
  {
   "cell_type": "code",
   "execution_count": 32,
   "id": "760d6884",
   "metadata": {},
   "outputs": [
    {
     "data": {
      "text/plain": [
       "'Buy BornBabyKids Cotton Bath Towel at Rs. 589 at Flipkart.com. Only Genuine Products. Free Shipping. Cash On Delivery!'"
      ]
     },
     "execution_count": 32,
     "metadata": {},
     "output_type": "execute_result"
    }
   ],
   "source": [
    "df_text_samp['description'].iloc[1]"
   ]
  },
  {
   "cell_type": "markdown",
   "metadata": {},
   "source": [
    "# Text Processing"
   ]
  },
  {
   "cell_type": "markdown",
   "metadata": {},
   "source": [
    "## Building the raw corpus"
   ]
  },
  {
   "cell_type": "code",
   "execution_count": 33,
   "id": "daa87592",
   "metadata": {},
   "outputs": [
    {
     "data": {
      "text/html": [
       "<div>\n",
       "<style scoped>\n",
       "    .dataframe tbody tr th:only-of-type {\n",
       "        vertical-align: middle;\n",
       "    }\n",
       "\n",
       "    .dataframe tbody tr th {\n",
       "        vertical-align: top;\n",
       "    }\n",
       "\n",
       "    .dataframe thead th {\n",
       "        text-align: right;\n",
       "    }\n",
       "</style>\n",
       "<table border=\"1\" class=\"dataframe\">\n",
       "  <thead>\n",
       "    <tr style=\"text-align: right;\">\n",
       "      <th></th>\n",
       "      <th>product_name</th>\n",
       "      <th>description</th>\n",
       "      <th>category</th>\n",
       "      <th>text</th>\n",
       "    </tr>\n",
       "  </thead>\n",
       "  <tbody>\n",
       "    <tr>\n",
       "      <th>0</th>\n",
       "      <td>Elegance Polyester Multicolor Abstract Eyelet ...</td>\n",
       "      <td>Key Features of Elegance Polyester Multicolor ...</td>\n",
       "      <td>Home Furnishing</td>\n",
       "      <td>Elegance Polyester Multicolor Abstract Eyelet ...</td>\n",
       "    </tr>\n",
       "    <tr>\n",
       "      <th>1</th>\n",
       "      <td>Sathiyas Cotton Bath Towel</td>\n",
       "      <td>Specifications of Sathiyas Cotton Bath Towel (...</td>\n",
       "      <td>Baby Care</td>\n",
       "      <td>Sathiyas Cotton Bath Towel Specifications of S...</td>\n",
       "    </tr>\n",
       "    <tr>\n",
       "      <th>2</th>\n",
       "      <td>Eurospa Cotton Terry Face Towel Set</td>\n",
       "      <td>Key Features of Eurospa Cotton Terry Face Towe...</td>\n",
       "      <td>Baby Care</td>\n",
       "      <td>Eurospa Cotton Terry Face Towel Set Key Featur...</td>\n",
       "    </tr>\n",
       "    <tr>\n",
       "      <th>3</th>\n",
       "      <td>SANTOSH ROYAL FASHION Cotton Printed King size...</td>\n",
       "      <td>Key Features of SANTOSH ROYAL FASHION Cotton P...</td>\n",
       "      <td>Home Furnishing</td>\n",
       "      <td>SANTOSH ROYAL FASHION Cotton Printed King size...</td>\n",
       "    </tr>\n",
       "    <tr>\n",
       "      <th>4</th>\n",
       "      <td>Jaipur Print Cotton Floral King sized Double B...</td>\n",
       "      <td>Key Features of Jaipur Print Cotton Floral Kin...</td>\n",
       "      <td>Home Furnishing</td>\n",
       "      <td>Jaipur Print Cotton Floral King sized Double B...</td>\n",
       "    </tr>\n",
       "  </tbody>\n",
       "</table>\n",
       "</div>"
      ],
      "text/plain": [
       "                                        product_name  \\\n",
       "0  Elegance Polyester Multicolor Abstract Eyelet ...   \n",
       "1                         Sathiyas Cotton Bath Towel   \n",
       "2                Eurospa Cotton Terry Face Towel Set   \n",
       "3  SANTOSH ROYAL FASHION Cotton Printed King size...   \n",
       "4  Jaipur Print Cotton Floral King sized Double B...   \n",
       "\n",
       "                                         description         category  \\\n",
       "0  Key Features of Elegance Polyester Multicolor ...  Home Furnishing   \n",
       "1  Specifications of Sathiyas Cotton Bath Towel (...        Baby Care   \n",
       "2  Key Features of Eurospa Cotton Terry Face Towe...        Baby Care   \n",
       "3  Key Features of SANTOSH ROYAL FASHION Cotton P...  Home Furnishing   \n",
       "4  Key Features of Jaipur Print Cotton Floral Kin...  Home Furnishing   \n",
       "\n",
       "                                                text  \n",
       "0  Elegance Polyester Multicolor Abstract Eyelet ...  \n",
       "1  Sathiyas Cotton Bath Towel Specifications of S...  \n",
       "2  Eurospa Cotton Terry Face Towel Set Key Featur...  \n",
       "3  SANTOSH ROYAL FASHION Cotton Printed King size...  \n",
       "4  Jaipur Print Cotton Floral King sized Double B...  "
      ]
     },
     "execution_count": 33,
     "metadata": {},
     "output_type": "execute_result"
    }
   ],
   "source": [
    "# The documents will consist of the product name and its description\n",
    "df_text['text'] = df_text['product_name'] + ' ' + df_text['description']\n",
    "df_text.head()"
   ]
  },
  {
   "cell_type": "code",
   "execution_count": 34,
   "id": "607ef11d",
   "metadata": {},
   "outputs": [
    {
     "data": {
      "text/plain": [
       "'Elegance Polyester Multicolor Abstract Eyelet Door Curtain Key Features of Elegance Polyester Multicolor Abstract Eyelet Door Curtain Floral Curtain,Elegance Polyester Multicolor Abstract Eyelet Door Curtain (213 cm in Height, Pack of 2) Price: Rs. 899 This curtain enhances the look of the interiors.This curtain is made from 100% high quality polyester fabric.It features an eyelet style stitch with Metal Ring.It makes the room environment romantic and loving.This curtain is ant- wrinkle and anti shrinkage and have elegant apparance.Give your home a bright and modernistic appeal with these designs. The surreal attention is sure to steal hearts. These contemporary eyelet and valance curtains slide smoothly so when you draw them apart first thing in the morning to welcome the bright sun rays you want to wish good morning to the whole world and when you draw them close in the evening, you create the most special moments of joyous beauty given by the soothing prints. Bring home the elegant '"
      ]
     },
     "execution_count": 34,
     "metadata": {},
     "output_type": "execute_result"
    }
   ],
   "source": [
    "# build corpus\n",
    "raw_corpus = ' '.join(df_text['text'].values)\n",
    "raw_corpus[:1000]"
   ]
  },
  {
   "cell_type": "markdown",
   "metadata": {},
   "source": [
    "## Preprocessing operations"
   ]
  },
  {
   "cell_type": "markdown",
   "id": "5d0ad50c",
   "metadata": {},
   "source": [
    "### Lowercase"
   ]
  },
  {
   "cell_type": "code",
   "execution_count": 35,
   "id": "a05b9307",
   "metadata": {},
   "outputs": [
    {
     "data": {
      "text/plain": [
       "'elegance polyester multicolor abstract eyelet door curtain key features of elegance polyester multicolor abstract eyelet door curtain floral curtain,elegance polyester multicolor abstract eyelet door curtain (213 cm in height, pack of 2) price: rs. 899 this curtain enhances the look of the interiors.this curtain is made from 100% high quality polyester fabric.it features an eyelet style stitch with metal ring.it makes the room environment romantic and loving.this curtain is ant- wrinkle and anti shrinkage and have elegant apparance.give your home a bright and modernistic appeal with these designs. the surreal attention is sure to steal hearts. these contemporary eyelet and valance curtains slide smoothly so when you draw them apart first thing in the morning to welcome the bright sun rays you want to wish good morning to the whole world and when you draw them close in the evening, you create the most special moments of joyous beauty given by the soothing prints. bring home the elegant '"
      ]
     },
     "execution_count": 35,
     "metadata": {},
     "output_type": "execute_result"
    }
   ],
   "source": [
    "corpus_lower = raw_corpus.lower().strip()\n",
    "corpus_lower[:1000]"
   ]
  },
  {
   "cell_type": "code",
   "execution_count": 36,
   "id": "44a4087f",
   "metadata": {},
   "outputs": [
    {
     "data": {
      "text/plain": [
       "546968"
      ]
     },
     "execution_count": 36,
     "metadata": {},
     "output_type": "execute_result"
    }
   ],
   "source": [
    "len(corpus_lower)"
   ]
  },
  {
   "cell_type": "markdown",
   "metadata": {},
   "source": [
    "### Tokenization"
   ]
  },
  {
   "cell_type": "code",
   "execution_count": 37,
   "id": "cc87c8f0",
   "metadata": {},
   "outputs": [
    {
     "data": {
      "text/plain": [
       "['elegance',\n",
       " 'polyester',\n",
       " 'multicolor',\n",
       " 'abstract',\n",
       " 'eyelet',\n",
       " 'door',\n",
       " 'curtain',\n",
       " 'key',\n",
       " 'features',\n",
       " 'of']"
      ]
     },
     "execution_count": 37,
     "metadata": {},
     "output_type": "execute_result"
    }
   ],
   "source": [
    "tokens = word_tokenize(corpus_lower)\n",
    "tokens[:10]"
   ]
  },
  {
   "cell_type": "code",
   "execution_count": 38,
   "id": "4ffab0d4",
   "metadata": {
    "ExecuteTime": {
     "end_time": "2022-10-27T17:48:05.448896Z",
     "start_time": "2022-10-27T17:48:05.446049Z"
    }
   },
   "outputs": [],
   "source": [
    "def display_tokens_info(tokens, n=20):\n",
    "    \"\"\"\n",
    "    display info about the corpus and n tokens\n",
    "    \"\"\"\n",
    "    print(f'# tokens : {len(tokens)}\\n# unique tokens : {len(set(tokens))}')\n",
    "    if n > 0 :\n",
    "        print(\"some tokens :\", list(set(tokens))[:n], sep=\"\\n\")"
   ]
  },
  {
   "cell_type": "code",
   "execution_count": 40,
   "id": "f7713be7",
   "metadata": {},
   "outputs": [
    {
     "name": "stdout",
     "output_type": "stream",
     "text": [
      "# tokens : 99490\n",
      "# unique tokens : 6625\n",
      "some tokens :\n",
      "['smoothly', 'vrct', 'born', 'rubberized', 'multicoloured', 'patterns', 'bedsheet,2', 'curl', 'guarantee', 'viscose', 'digilight', 'furnace', 'daughter', 'gridding', 'lifestyle-you', 'cuteness', 'absorbency', 'sticker', 'hard', 'vgn-cr190e/r']\n"
     ]
    }
   ],
   "source": [
    "display_tokens_info(tokens)"
   ]
  },
  {
   "cell_type": "markdown",
   "metadata": {},
   "source": [
    "### Stopwords"
   ]
  },
  {
   "cell_type": "code",
   "execution_count": 41,
   "id": "2d6d6c88",
   "metadata": {},
   "outputs": [
    {
     "name": "stdout",
     "output_type": "stream",
     "text": [
      "['i', 'me', 'my', 'myself', 'we', 'our', 'ours', 'ourselves', 'you', \"you're\", \"you've\", \"you'll\", \"you'd\", 'your', 'yours', 'yourself', 'yourselves', 'he', 'him', 'his', 'himself', 'she', \"she's\", 'her', 'hers', 'herself', 'it', \"it's\", 'its', 'itself', 'they', 'them', 'their', 'theirs', 'themselves', 'what', 'which', 'who', 'whom', 'this', 'that', \"that'll\", 'these', 'those', 'am', 'is', 'are', 'was', 'were', 'be', 'been', 'being', 'have', 'has', 'had', 'having', 'do', 'does', 'did', 'doing', 'a', 'an', 'the', 'and', 'but', 'if', 'or', 'because', 'as', 'until', 'while', 'of', 'at', 'by', 'for', 'with', 'about', 'against', 'between', 'into', 'through', 'during', 'before', 'after', 'above', 'below', 'to', 'from', 'up', 'down', 'in', 'out', 'on', 'off', 'over', 'under', 'again', 'further', 'then', 'once', 'here', 'there', 'when', 'where', 'why', 'how', 'all', 'any', 'both', 'each', 'few', 'more', 'most', 'other', 'some', 'such', 'no', 'nor', 'not', 'only', 'own', 'same', 'so', 'than', 'too', 'very', 's', 't', 'can', 'will', 'just', 'don', \"don't\", 'should', \"should've\", 'now', 'd', 'll', 'm', 'o', 're', 've', 'y', 'ain', 'aren', \"aren't\", 'couldn', \"couldn't\", 'didn', \"didn't\", 'doesn', \"doesn't\", 'hadn', \"hadn't\", 'hasn', \"hasn't\", 'haven', \"haven't\", 'isn', \"isn't\", 'ma', 'mightn', \"mightn't\", 'mustn', \"mustn't\", 'needn', \"needn't\", 'shan', \"shan't\", 'shouldn', \"shouldn't\", 'wasn', \"wasn't\", 'weren', \"weren't\", 'won', \"won't\", 'wouldn', \"wouldn't\"]\n"
     ]
    }
   ],
   "source": [
    "stop_words = stopwords.words('english')\n",
    "print(stop_words)"
   ]
  },
  {
   "cell_type": "code",
   "execution_count": 42,
   "id": "7118e9f3",
   "metadata": {},
   "outputs": [
    {
     "name": "stdout",
     "output_type": "stream",
     "text": [
      "# tokens : 79896\n",
      "# unique tokens : 6508\n",
      "some tokens :\n",
      "['smoothly', 'vrct', 'born', 'rubberized', 'multicoloured', 'patterns', 'bedsheet,2', 'curl', 'guarantee', 'viscose', 'digilight', 'furnace', 'daughter', 'gridding', 'lifestyle-you', 'cuteness', 'absorbency', 'sticker', 'hard', 'vgn-cr190e/r']\n"
     ]
    }
   ],
   "source": [
    "# remove stopwords\n",
    "tokens = [w for w in tokens if w not in stop_words]\n",
    "display_tokens_info(tokens)"
   ]
  },
  {
   "cell_type": "markdown",
   "metadata": {},
   "source": [
    "### Punctuation"
   ]
  },
  {
   "cell_type": "code",
   "execution_count": 43,
   "id": "6c9c10b1",
   "metadata": {},
   "outputs": [
    {
     "name": "stdout",
     "output_type": "stream",
     "text": [
      "# tokens : 67184\n",
      "# unique tokens : 6487\n",
      "some tokens :\n",
      "['smoothly', 'vrct', 'born', 'rubberized', 'multicoloured', 'patterns', 'bedsheet,2', 'curl', 'guarantee', 'viscose', 'digilight', 'furnace', 'daughter', 'gridding', 'lifestyle-you', 'cuteness', 'absorbency', 'sticker', 'hard', 'vgn-cr190e/r']\n"
     ]
    }
   ],
   "source": [
    "tokens = [w for w in tokens if w not in string.punctuation]\n",
    "display_tokens_info(tokens)"
   ]
  },
  {
   "cell_type": "markdown",
   "metadata": {},
   "source": [
    "### Rare tokens"
   ]
  },
  {
   "cell_type": "code",
   "execution_count": 44,
   "id": "75bd78fd",
   "metadata": {},
   "outputs": [
    {
     "data": {
      "text/plain": [
       "cm             652\n",
       "products       632\n",
       "free           617\n",
       "rs             592\n",
       "buy            582\n",
       "replacement    568\n",
       "delivery       567\n",
       "genuine        564\n",
       "cash           564\n",
       "shipping       564\n",
       "Name: count, dtype: int64"
      ]
     },
     "execution_count": 44,
     "metadata": {},
     "output_type": "execute_result"
    }
   ],
   "source": [
    "tokens_value_counts = pd.Series(tokens).value_counts()\n",
    "tokens_value_counts[:10]"
   ]
  },
  {
   "cell_type": "code",
   "execution_count": 45,
   "id": "56341a8a",
   "metadata": {
    "ExecuteTime": {
     "end_time": "2022-10-27T17:48:05.734548Z",
     "start_time": "2022-10-27T17:48:05.726666Z"
    }
   },
   "outputs": [
    {
     "data": {
      "text/plain": [
       "count    6487.000000\n",
       "mean       10.356713\n",
       "std        38.855418\n",
       "min         1.000000\n",
       "25%         1.000000\n",
       "50%         2.000000\n",
       "75%         6.000000\n",
       "max       652.000000\n",
       "Name: count, dtype: float64"
      ]
     },
     "execution_count": 45,
     "metadata": {},
     "output_type": "execute_result"
    }
   ],
   "source": [
    "tokens_value_counts.describe()"
   ]
  },
  {
   "cell_type": "code",
   "execution_count": 46,
   "id": "f341eb9b",
   "metadata": {
    "ExecuteTime": {
     "end_time": "2022-10-27T17:48:06.093525Z",
     "start_time": "2022-10-27T17:48:05.736349Z"
    }
   },
   "outputs": [
    {
     "data": {
      "image/png": "[encoded data removed]",
      "text/plain": [
       "<Figure size 1600x600 with 2 Axes>"
      ]
     },
     "metadata": {},
     "output_type": "display_data"
    }
   ],
   "source": [
    "fig, axs = plt.subplots(1, 2, figsize=(16,6))\n",
    "sns.boxplot(x=tokens_value_counts.values, showfliers=False, ax=axs[0])\n",
    "sns.boxplot(x=tokens_value_counts.values, showfliers=True, ax=axs[1])\n",
    "fig.suptitle(\"Token count distribution\")\n",
    "axs[0].set_title(\"without outliers\")\n",
    "axs[1].set_title(\"with outliers\")\n",
    "plt.show()"
   ]
  },
  {
   "cell_type": "code",
   "execution_count": 47,
   "id": "f26ec06f",
   "metadata": {
    "ExecuteTime": {
     "end_time": "2022-10-27T17:48:06.102033Z",
     "start_time": "2022-10-27T17:48:06.096273Z"
    }
   },
   "outputs": [
    {
     "data": {
      "text/plain": [
       "['2nd',\n",
       " 'instruments',\n",
       " 'bollywood',\n",
       " 'calnedars',\n",
       " 'daily.',\n",
       " 'stir-up',\n",
       " 'thrillers',\n",
       " 'buzz.',\n",
       " 'vsswh001',\n",
       " 'sole']"
      ]
     },
     "execution_count": 47,
     "metadata": {},
     "output_type": "execute_result"
    }
   ],
   "source": [
    "unique_words = list(tokens_value_counts[tokens_value_counts == 1].index)\n",
    "unique_words[:10]"
   ]
  },
  {
   "cell_type": "code",
   "execution_count": 48,
   "id": "bacc486b",
   "metadata": {
    "ExecuteTime": {
     "end_time": "2022-10-27T17:48:06.108820Z",
     "start_time": "2022-10-27T17:48:06.104802Z"
    }
   },
   "outputs": [
    {
     "data": {
      "text/plain": [
       "1871"
      ]
     },
     "execution_count": 48,
     "metadata": {},
     "output_type": "execute_result"
    }
   ],
   "source": [
    "len(unique_words)"
   ]
  },
  {
   "cell_type": "markdown",
   "id": "e239f7c7",
   "metadata": {},
   "source": [
    "We remove tokens that appear a single time in the corpus"
   ]
  },
  {
   "cell_type": "code",
   "execution_count": 49,
   "id": "a47c66a2",
   "metadata": {},
   "outputs": [
    {
     "name": "stdout",
     "output_type": "stream",
     "text": [
      "# tokens : 65313\n",
      "# unique tokens : 4616\n",
      "some tokens :\n",
      "['smoothly', 'vrct', 'rama', 'e-1700-906_blk', 'lbp', 'born', 'multicoloured', 'enamel', 'patterns', 'vgn-cr305e/l', 'subtle', 'giving', 'insert', 'bedsheet,2', 'strength', 'lines', 'curl', 'guarantee', 'textiles', 'viscose']\n"
     ]
    }
   ],
   "source": [
    "tokens = [w for w in tokens if w not in unique_words]\n",
    "display_tokens_info(tokens)"
   ]
  },
  {
   "cell_type": "markdown",
   "metadata": {},
   "source": [
    "### Short words"
   ]
  },
  {
   "cell_type": "code",
   "execution_count": 50,
   "id": "abb6a2f5",
   "metadata": {},
   "outputs": [],
   "source": [
    "# remove words made up of less than `min_len_words` character\n",
    "min_len_words = 3\n",
    "tokens = [w for w in tokens if len(w) >= min_len_words]"
   ]
  },
  {
   "cell_type": "code",
   "execution_count": 51,
   "id": "ad4f6aed",
   "metadata": {},
   "outputs": [
    {
     "name": "stdout",
     "output_type": "stream",
     "text": [
      "# tokens : 59717\n",
      "# unique tokens : 4449\n",
      "some tokens :\n",
      "['smoothly', 'vrct', 'rama', 'e-1700-906_blk', 'lbp', 'born', 'multicoloured', 'enamel', 'patterns', 'vgn-cr305e/l', 'subtle', 'giving', 'insert', 'bedsheet,2', 'strength', 'lines', 'curl', 'guarantee', 'textiles', 'viscose']\n"
     ]
    }
   ],
   "source": [
    "display_tokens_info(tokens)"
   ]
  },
  {
   "cell_type": "markdown",
   "metadata": {},
   "source": [
    "### Alphabetic tokens"
   ]
  },
  {
   "cell_type": "code",
   "execution_count": 52,
   "id": "f797ab51",
   "metadata": {},
   "outputs": [
    {
     "name": "stdout",
     "output_type": "stream",
     "text": [
      "# tokens : 55568\n",
      "# unique tokens : 3584\n",
      "some tokens :\n",
      "['smoothly', 'vrct', 'rama', 'lbp', 'born', 'multicoloured', 'enamel', 'patterns', 'contamination', 'subtle', 'giving', 'insert', 'strength', 'lines', 'curl', 'guarantee', 'textiles', 'viscose', 'design', 'digilight']\n"
     ]
    }
   ],
   "source": [
    "# remove tokens that contain numbers\n",
    "tokens = [w for w in tokens if w.isalpha()]\n",
    "display_tokens_info(tokens)"
   ]
  },
  {
   "cell_type": "markdown",
   "metadata": {},
   "source": [
    "### English words"
   ]
  },
  {
   "cell_type": "code",
   "execution_count": 53,
   "id": "b73a8aac",
   "metadata": {},
   "outputs": [
    {
     "data": {
      "text/plain": [
       "['a',\n",
       " 'a',\n",
       " 'aa',\n",
       " 'aal',\n",
       " 'aalii',\n",
       " 'aam',\n",
       " 'aani',\n",
       " 'aardvark',\n",
       " 'aardwolf',\n",
       " 'aaron']"
      ]
     },
     "execution_count": 53,
     "metadata": {},
     "output_type": "execute_result"
    }
   ],
   "source": [
    "eng_words = [w.lower() for w in words.words()] # all lowercase English dictionary words\n",
    "eng_words[:10]"
   ]
  },
  {
   "cell_type": "code",
   "execution_count": 54,
   "id": "2f7446cd",
   "metadata": {
    "ExecuteTime": {
     "end_time": "2022-10-27T17:48:08.044828Z",
     "start_time": "2022-10-27T17:48:08.040557Z"
    }
   },
   "outputs": [
    {
     "data": {
      "text/plain": [
       "236736"
      ]
     },
     "execution_count": 54,
     "metadata": {},
     "output_type": "execute_result"
    }
   ],
   "source": [
    "len(eng_words)"
   ]
  },
  {
   "cell_type": "code",
   "execution_count": 55,
   "id": "d8a8e4ae",
   "metadata": {
    "ExecuteTime": {
     "end_time": "2022-10-27T17:48:08.094405Z",
     "start_time": "2022-10-27T17:48:08.046748Z"
    }
   },
   "outputs": [
    {
     "data": {
      "text/plain": [
       "234377"
      ]
     },
     "execution_count": 55,
     "metadata": {},
     "output_type": "execute_result"
    }
   ],
   "source": [
    "len(set(eng_words))"
   ]
  },
  {
   "cell_type": "markdown",
   "id": "fb2cc782",
   "metadata": {},
   "source": [
    "Corpus words not in the dictionary"
   ]
  },
  {
   "cell_type": "code",
   "execution_count": 56,
   "id": "1ecdcb09",
   "metadata": {
    "ExecuteTime": {
     "end_time": "2022-10-27T17:49:40.294513Z",
     "start_time": "2022-10-27T17:48:08.096495Z"
    }
   },
   "outputs": [
    {
     "name": "stdout",
     "output_type": "stream",
     "text": [
      "# tokens : 12329\n",
      "# unique tokens : 1260\n",
      "some tokens :\n",
      "['vrct', 'lbp', 'multicoloured', 'patterns', 'lines', 'textiles', 'digilight', 'flipkart', 'brahmz', 'lovelly', 'printland', 'discounts', 'awakened', 'oxyglow', 'replaced', 'exports', 'colours', 'conforms', 'multicolour', 'adapters']\n",
      "CPU times: total: 1min 53s\n",
      "Wall time: 2min 3s\n"
     ]
    }
   ],
   "source": [
    "%%time\n",
    "non_eng_tokens = [w for w in tokens if w not in eng_words]\n",
    "display_tokens_info(non_eng_tokens)"
   ]
  },
  {
   "cell_type": "markdown",
   "id": "dc1ad624",
   "metadata": {},
   "source": [
    "We can see that some words are indeed not in the dictionary, but some have not been recognized as such because they are in a plural form for example.\n",
    "Additionally, some non-English words may still be useful as they characterize a certain type of product, such as a brand name for instance. Therefore, it might be better to keep them."
   ]
  },
  {
   "cell_type": "markdown",
   "metadata": {},
   "source": [
    "### Lemmatization\n",
    "\n",
    "The process of **lemmatization** involves representing words (or *lemmas*) in their canonical form. For a verb, it will be its infinitive form. For a noun, it will be its singular masculine form."
   ]
  },
  {
   "cell_type": "markdown",
   "id": "077fe744",
   "metadata": {},
   "source": [
    "#### Examples"
   ]
  },
  {
   "cell_type": "code",
   "execution_count": 57,
   "id": "5f21d16f",
   "metadata": {
    "ExecuteTime": {
     "end_time": "2022-10-27T17:49:40.313870Z",
     "start_time": "2022-10-27T17:49:40.310122Z"
    }
   },
   "outputs": [
    {
     "data": {
      "text/plain": [
       "'He was running and eating at same time. He has bad habit of swimming after playing long hours in the Sun.'"
      ]
     },
     "execution_count": 57,
     "metadata": {},
     "output_type": "execute_result"
    }
   ],
   "source": [
    "sentence = \"He was running and eating at same time. He has bad habit of swimming after playing long hours in the Sun.\"\n",
    "sentence"
   ]
  },
  {
   "cell_type": "code",
   "execution_count": 60,
   "id": "4affc1f0",
   "metadata": {
    "ExecuteTime": {
     "end_time": "2022-10-27T17:49:41.707927Z",
     "start_time": "2022-10-27T17:49:40.321303Z"
    }
   },
   "outputs": [
    {
     "name": "stdout",
     "output_type": "stream",
     "text": [
      "Word                Lemma                \n",
      "------------------------------\n",
      "He                  He                  \n",
      "was                 wa                  \n",
      "running             running             \n",
      "and                 and                 \n",
      "eating              eating              \n",
      "at                  at                  \n",
      "same                same                \n",
      "time                time                \n",
      ".                   .                   \n",
      "He                  He                  \n",
      "has                 ha                  \n",
      "bad                 bad                 \n",
      "habit               habit               \n",
      "of                  of                  \n",
      "swimming            swimming            \n",
      "after               after               \n",
      "playing             playing             \n",
      "long                long                \n",
      "hours               hour                \n",
      "in                  in                  \n",
      "the                 the                 \n",
      "Sun                 Sun                 \n",
      ".                   .                   \n"
     ]
    }
   ],
   "source": [
    "lemmatizer = WordNetLemmatizer()\n",
    "\n",
    "sentence_tokens = nltk.word_tokenize(sentence)\n",
    "print(\"{0:20}{1:20} \\n\".format(\"Word\",\"Lemma\") + '-'*30)\n",
    "for word in sentence_tokens:\n",
    "    print (\"{0:20}{1:20}\".format(word, lemmatizer.lemmatize(word)))"
   ]
  },
  {
   "cell_type": "markdown",
   "metadata": {},
   "source": [
    "#### Application"
   ]
  },
  {
   "cell_type": "code",
   "execution_count": 61,
   "id": "ada89915",
   "metadata": {},
   "outputs": [
    {
     "name": "stdout",
     "output_type": "stream",
     "text": [
      "# tokens : 55568\n",
      "# unique tokens : 3306\n",
      "some tokens :\n",
      "['smoothly', 'vrct', 'rama', 'lbp', 'born', 'multicoloured', 'enamel', 'contamination', 'subtle', 'giving', 'insert', 'strength', 'curl', 'guarantee', 'viscose', 'design', 'digilight', 'sheet', 'furnace', 'holding']\n"
     ]
    }
   ],
   "source": [
    "tokens_lem = [lemmatizer.lemmatize(w) for w in tokens]\n",
    "display_tokens_info(tokens_lem)"
   ]
  },
  {
   "cell_type": "markdown",
   "metadata": {},
   "source": [
    "### Stemming\n",
    "\n",
    "Another process that serves a similar function is called **stemming**. Stemming involves retaining only the root of the words studied. The idea is to remove suffixes, prefixes, and other affixes from words to retain only their origin. It is a simpler process than lemmatization and faster to perform because it essentially truncates words, unlike lemmatization, which requires the use of a dictionary."
   ]
  },
  {
   "cell_type": "markdown",
   "id": "77205c37",
   "metadata": {},
   "source": [
    "#### Examples"
   ]
  },
  {
   "cell_type": "code",
   "execution_count": 64,
   "id": "3e20be1d",
   "metadata": {},
   "outputs": [
    {
     "data": {
      "text/plain": [
       "'Pythoners are very intelligent and work very pythonly and now they are pythoning their way to success.'"
      ]
     },
     "execution_count": 64,
     "metadata": {},
     "output_type": "execute_result"
    }
   ],
   "source": [
    "sentence=\"Pythoners are very intelligent and work very pythonly and now they are pythoning their way to success.\"\n",
    "sentence"
   ]
  },
  {
   "cell_type": "code",
   "execution_count": 65,
   "id": "94ae7ae3",
   "metadata": {},
   "outputs": [
    {
     "name": "stdout",
     "output_type": "stream",
     "text": [
      "Word                Porter Stemmer       \n",
      "-----------------------------------\n",
      "Pythoners           python              \n",
      "are                 are                 \n",
      "very                veri                \n",
      "intelligent         intellig            \n",
      "and                 and                 \n",
      "work                work                \n",
      "very                veri                \n",
      "pythonly            pythonli            \n",
      "and                 and                 \n",
      "now                 now                 \n",
      "they                they                \n",
      "are                 are                 \n",
      "pythoning           python              \n",
      "their               their               \n",
      "way                 way                 \n",
      "to                  to                  \n",
      "success             success             \n",
      ".                   .                   \n"
     ]
    }
   ],
   "source": [
    "stemmer = PorterStemmer()\n",
    "\n",
    "sentence_tokens = nltk.word_tokenize(sentence)\n",
    "print(\"{0:20}{1:20} \\n\".format(\"Word\",\"Porter Stemmer\") + '-'*35)\n",
    "for word in sentence_tokens:\n",
    "    print (\"{0:20}{1:20}\".format(word, stemmer.stem(word)))"
   ]
  },
  {
   "cell_type": "markdown",
   "metadata": {},
   "source": [
    "#### Application"
   ]
  },
  {
   "cell_type": "code",
   "execution_count": 66,
   "id": "3ebe6fb2",
   "metadata": {},
   "outputs": [
    {
     "name": "stdout",
     "output_type": "stream",
     "text": [
      "# tokens : 55568\n",
      "# unique tokens : 2958\n",
      "some tokens :\n",
      "['nutcas', 'vrct', 'rama', 'exactli', 'dynam', 'lbp', 'born', 'enamel', 'insert', 'strength', 'curl', 'design', 'fanci', 'digilight', 'sheet', 'flipkart', 'fork', 'improv', 'brahmz', 'smoke']\n"
     ]
    }
   ],
   "source": [
    "tokens_stem = [stemmer.stem(w) for w in tokens]\n",
    "display_tokens_info(tokens_stem)"
   ]
  },
  {
   "cell_type": "markdown",
   "metadata": {},
   "source": [
    "### WordCloud"
   ]
  },
  {
   "cell_type": "code",
   "execution_count": 67,
   "id": "1dc9c176",
   "metadata": {},
   "outputs": [
    {
     "data": {
      "image/png": "[encoded data removed]",
      "text/plain": [
       "<Figure size 640x480 with 1 Axes>"
      ]
     },
     "metadata": {},
     "output_type": "display_data"
    }
   ],
   "source": [
    "# without lemmatization nor stemming\n",
    "wordcloud = WordCloud(background_color='white', \n",
    "                      stopwords=[], max_words=50, random_state=0).generate(' '.join(tokens))\n",
    "plt.imshow(wordcloud)\n",
    "plt.axis('off');"
   ]
  },
  {
   "cell_type": "code",
   "execution_count": 68,
   "id": "b433f314",
   "metadata": {},
   "outputs": [
    {
     "data": {
      "image/png": "[encoded data removed]",
      "text/plain": [
       "<Figure size 640x480 with 1 Axes>"
      ]
     },
     "metadata": {},
     "output_type": "display_data"
    }
   ],
   "source": [
    "# with lemmatization\n",
    "wordcloud = WordCloud(background_color='white', \n",
    "                      stopwords=[], max_words=50, random_state=0).generate(' '.join(tokens_lem))\n",
    "plt.imshow(wordcloud)\n",
    "plt.axis('off');"
   ]
  },
  {
   "cell_type": "code",
   "execution_count": 69,
   "id": "ddfbf9f5",
   "metadata": {},
   "outputs": [
    {
     "data": {
      "image/png": "[encoded data removed]",
      "text/plain": [
       "<Figure size 640x480 with 1 Axes>"
      ]
     },
     "metadata": {},
     "output_type": "display_data"
    }
   ],
   "source": [
    "# with stemming\n",
    "wordcloud = WordCloud(background_color='white', \n",
    "                      stopwords=[], max_words=50, random_state=0).generate(' '.join(tokens_stem))\n",
    "plt.imshow(wordcloud)\n",
    "plt.axis('off');"
   ]
  },
  {
   "cell_type": "markdown",
   "metadata": {},
   "source": [
    "## **Text processing function**\n",
    "\n",
    "We define function that allows us to apply all the processes we have seen before."
   ]
  },
  {
   "cell_type": "code",
   "execution_count": 71,
   "id": "65e7728c",
   "metadata": {
    "ExecuteTime": {
     "end_time": "2022-10-27T17:49:44.439761Z",
     "start_time": "2022-10-27T17:49:44.433763Z"
    }
   },
   "outputs": [],
   "source": [
    "def process_text(doc, stop_words=None, list_rare_words=None, min_len_words=3, force_is_alpha=True,\n",
    "                 extra_words=None, eng_words=None, lem_or_stem=None, rejoin=False):\n",
    "    \"\"\"\n",
    "    Process a given document by applying various text processing steps.\n",
    "\n",
    "    Parameters:\n",
    "    -----------\n",
    "    doc : str\n",
    "        The document (a text in str format) to process.\n",
    "\n",
    "    stop_words : list or None, optional\n",
    "        List of stopwords to exclude from the document.\n",
    "\n",
    "    list_rare_words : list or None, optional\n",
    "        A list of rare words to exclude.\n",
    "\n",
    "    min_len_words : int, optional\n",
    "        The minimum length of words to include in the processed document.\n",
    "\n",
    "    force_is_alpha : bool, optional\n",
    "        If True, exclude all tokens that contain non-alphabetic characters.\n",
    "\n",
    "    extra_words : list or None, optional\n",
    "        List of extra words to exclude from the document.\n",
    "\n",
    "    eng_words : list or None, optional\n",
    "        List of English words to include in the processed document.\n",
    "\n",
    "    lem_or_stem : str or None, optional\n",
    "        If 'lem', lemmatizes the words; if 'stem', stems the words.\n",
    "\n",
    "    rejoin : bool, optional\n",
    "        If True, return the processed document as a single string; else return a list of tokens.\n",
    "\n",
    "    Returns:\n",
    "    --------\n",
    "    list or str\n",
    "        A list of tokens or a string if rejoin is True.\n",
    "    \"\"\"\n",
    "    # Convert the document to lowercase and remove leading/trailing whitespaces\n",
    "    doc = doc.lower().strip()\n",
    "\n",
    "    # Tokenize the document\n",
    "    tokens = word_tokenize(doc)\n",
    "\n",
    "    ############################################################\n",
    "    # Begin tokens processing\n",
    "    ############################################################\n",
    "\n",
    "    # Exclude classic stopwords if provided\n",
    "    if stop_words:\n",
    "        tokens = [w for w in tokens if w not in stop_words]\n",
    "\n",
    "    # Exclude non-rare tokens if a list of rare words is provided\n",
    "    if list_rare_words:\n",
    "        tokens = [w for w in tokens if w not in list_rare_words]\n",
    "\n",
    "    # Filter tokens based on minimum length requirement\n",
    "    if min_len_words:\n",
    "        tokens = [w for w in tokens if len(w) >= min_len_words]\n",
    "\n",
    "    # Exclude tokens containing non-alphabetic characters if required\n",
    "    if force_is_alpha:\n",
    "        tokens = [w for w in tokens if w.isalpha()]\n",
    "\n",
    "    # Drop extra words if provided\n",
    "    if extra_words:\n",
    "        tokens = [w for w in tokens if w not in extra_words]\n",
    "\n",
    "    # Include only English words if a list is provided\n",
    "    if eng_words:\n",
    "        tokens = [w for w in tokens if w in eng_words]\n",
    "\n",
    "    # Lemmatize or stem the tokens based on the specified method\n",
    "    if lem_or_stem == 'lem':\n",
    "        lemmatizer = WordNetLemmatizer()\n",
    "        tokens = [lemmatizer.lemmatize(w) for w in tokens]\n",
    "    elif lem_or_stem == 'stem':\n",
    "        stemmer = PorterStemmer()\n",
    "        tokens = [stemmer.stem(w) for w in tokens]\n",
    "\n",
    "    ############################################################\n",
    "    # End tokens processing\n",
    "    ############################################################\n",
    "\n",
    "    # Return the processed document as a single string if rejoin is True\n",
    "    if rejoin:\n",
    "        return ' '.join(tokens)\n",
    "\n",
    "    # Return the list of tokens\n",
    "    return tokens"
   ]
  },
  {
   "cell_type": "markdown",
   "id": "5984413c",
   "metadata": {},
   "source": [
    "Let's test the function"
   ]
  },
  {
   "cell_type": "code",
   "execution_count": 72,
   "id": "ec362cb3",
   "metadata": {
    "ExecuteTime": {
     "end_time": "2022-10-27T17:49:54.429837Z",
     "start_time": "2022-10-27T17:49:44.458247Z"
    }
   },
   "outputs": [
    {
     "name": "stdout",
     "output_type": "stream",
     "text": [
      "Sans lemmatization ni stemming\n",
      "# tokens : 55568\n",
      "# unique tokens : 3584\n",
      "some tokens :\n",
      "['smoothly', 'vrct', 'rama', 'lbp', 'born', 'multicoloured', 'enamel', 'patterns', 'contamination', 'subtle', 'giving', 'insert', 'strength', 'lines', 'curl', 'guarantee', 'textiles', 'viscose', 'design', 'digilight']\n",
      "\n",
      "Avec lemmatization\n",
      "# tokens : 55568\n",
      "# unique tokens : 3306\n",
      "some tokens :\n",
      "['smoothly', 'vrct', 'rama', 'lbp', 'born', 'multicoloured', 'enamel', 'contamination', 'subtle', 'giving', 'insert', 'strength', 'curl', 'guarantee', 'viscose', 'design', 'digilight', 'sheet', 'furnace', 'holding']\n",
      "\n",
      "Avec stemming\n",
      "# tokens : 55568\n",
      "# unique tokens : 2958\n",
      "some tokens :\n",
      "['nutcas', 'vrct', 'rama', 'exactli', 'dynam', 'lbp', 'born', 'enamel', 'insert', 'strength', 'curl', 'design', 'fanci', 'digilight', 'sheet', 'flipkart', 'fork', 'improv', 'brahmz', 'smoke']\n"
     ]
    }
   ],
   "source": [
    "test = process_text(raw_corpus,\n",
    "                    stop_words=stop_words,\n",
    "                    list_rare_words=unique_words,\n",
    "                    min_len_words=3,\n",
    "                    force_is_alpha=True,\n",
    "                    lem_or_stem=None,\n",
    "                    eng_words=None,\n",
    "                    extra_words=None,\n",
    "                    rejoin=False,\n",
    "                   )\n",
    "\n",
    "test_lem = process_text(raw_corpus,\n",
    "                    stop_words=stop_words,\n",
    "                    list_rare_words=unique_words,\n",
    "                    min_len_words=3,\n",
    "                    force_is_alpha=True,\n",
    "                    lem_or_stem='lem',\n",
    "                    eng_words=None,\n",
    "                    extra_words=None,\n",
    "                    rejoin=False,\n",
    "                   )\n",
    "\n",
    "test_stem = process_text(raw_corpus,\n",
    "                    stop_words=stop_words,\n",
    "                    list_rare_words=unique_words,\n",
    "                    min_len_words=3,\n",
    "                    force_is_alpha=True,\n",
    "                    lem_or_stem='stem',\n",
    "                    eng_words=None,\n",
    "                    extra_words=None,\n",
    "                    rejoin=False,\n",
    "                   )\n",
    "\n",
    "print('Sans lemmatization ni stemming')\n",
    "display_tokens_info(test)\n",
    "print()\n",
    "print('Avec lemmatization')\n",
    "display_tokens_info(test_lem)\n",
    "print()\n",
    "print('Avec stemming')\n",
    "display_tokens_info(test_stem)"
   ]
  },
  {
   "cell_type": "markdown",
   "id": "e88dd8a9",
   "metadata": {},
   "source": [
    "we obtain the same results as before so it's OK"
   ]
  },
  {
   "cell_type": "markdown",
   "metadata": {},
   "source": [
    "## Extra words\n",
    "\n",
    "We are going to remove the words that appear frequently in all categories because they will not help differentiate them."
   ]
  },
  {
   "cell_type": "markdown",
   "metadata": {},
   "source": [
    "### Separation of categories"
   ]
  },
  {
   "cell_type": "code",
   "execution_count": 73,
   "id": "8e278d0d",
   "metadata": {},
   "outputs": [
    {
     "name": "stdout",
     "output_type": "stream",
     "text": [
      "Home Furnishing\n",
      "Baby Care\n",
      "Watches\n",
      "Home Decor & Festive Needs\n",
      "Kitchen & Dining\n",
      "Beauty and Personal Care\n",
      "Computers\n"
     ]
    }
   ],
   "source": [
    "for cat in df_text['category'].unique():\n",
    "    print(cat)"
   ]
  },
  {
   "cell_type": "code",
   "execution_count": 74,
   "id": "f86e9816",
   "metadata": {
    "ExecuteTime": {
     "end_time": "2022-10-27T17:49:54.445911Z",
     "start_time": "2022-10-27T17:49:54.436792Z"
    }
   },
   "outputs": [],
   "source": [
    "# create a dictionary containing the corpus of each category\n",
    "corpus_dic = {}\n",
    "for cat in df_text['category'].unique():\n",
    "    corpus = df_text.loc[df_text['category'] == cat, 'text']\n",
    "    corpus_dic[cat] = ' '.join(corpus)"
   ]
  },
  {
   "cell_type": "code",
   "execution_count": 80,
   "id": "cd0e2e5b",
   "metadata": {},
   "outputs": [
    {
     "name": "stdout",
     "output_type": "stream",
     "text": [
      "Category                      # characters                   \n",
      "=============================================\n",
      "Home Furnishing                    63622\n",
      "---------------------------------------------\n",
      "Baby Care                          78679\n",
      "---------------------------------------------\n",
      "Watches                            56213\n",
      "---------------------------------------------\n",
      "Home Decor & Festive Needs         92595\n",
      "---------------------------------------------\n",
      "Kitchen & Dining                  101184\n",
      "---------------------------------------------\n",
      "Beauty and Personal Care           63840\n",
      "---------------------------------------------\n",
      "Computers                          90829\n",
      "---------------------------------------------\n"
     ]
    }
   ],
   "source": [
    "print(\"{0:30}{1:30} \\n\".format(\"Category\", \"# characters\") + '='*45)\n",
    "for key in corpus_dic.keys():\n",
    "    print (\"{0:30}{1:10}\".format(key, len(corpus_dic[key])))\n",
    "    print(\"-\"*45)"
   ]
  },
  {
   "cell_type": "markdown",
   "metadata": {},
   "source": [
    "### Processing"
   ]
  },
  {
   "cell_type": "code",
   "execution_count": 81,
   "id": "5636668b",
   "metadata": {},
   "outputs": [],
   "source": [
    "# tokenize the corpuses and put the results in a dictionary\n",
    "tokens_dic = {}\n",
    "for cat in df_text['category'].unique():\n",
    "    tokens_dic[cat] = process_text(corpus_dic[cat],\n",
    "                            stop_words=stop_words,\n",
    "                            #list_rare_words=unique_words,\n",
    "                            min_len_words=3,\n",
    "                            force_is_alpha=True,\n",
    "                            #lem_or_stem='stem',\n",
    "                            eng_words=None,\n",
    "                            extra_words=None,\n",
    "                            rejoin=False,\n",
    "                           )"
   ]
  },
  {
   "cell_type": "code",
   "execution_count": 82,
   "id": "618f53fd",
   "metadata": {},
   "outputs": [
    {
     "name": "stdout",
     "output_type": "stream",
     "text": [
      "Home Furnishing\n",
      "# tokens : 6786\n",
      "# unique tokens : 850\n",
      "\n",
      "Baby Care\n",
      "# tokens : 9141\n",
      "# unique tokens : 1237\n",
      "\n",
      "Watches\n",
      "# tokens : 5477\n",
      "# unique tokens : 443\n",
      "\n",
      "Home Decor & Festive Needs\n",
      "# tokens : 9332\n",
      "# unique tokens : 1575\n",
      "\n",
      "Kitchen & Dining\n",
      "# tokens : 10089\n",
      "# unique tokens : 1201\n",
      "\n",
      "Beauty and Personal Care\n",
      "# tokens : 6733\n",
      "# unique tokens : 1212\n",
      "\n",
      "Computers\n",
      "# tokens : 9091\n",
      "# unique tokens : 1055\n",
      "\n"
     ]
    }
   ],
   "source": [
    "for key in tokens_dic.keys():\n",
    "    print(key)\n",
    "    display_tokens_info(tokens_dic[key], n=0)\n",
    "    print()"
   ]
  },
  {
   "cell_type": "markdown",
   "metadata": {},
   "source": [
    "### Extra words\n",
    "\n",
    "Here we list the words that appear in the top `n` of most frequent words in each category and that are common to all categories."
   ]
  },
  {
   "cell_type": "code",
   "execution_count": 83,
   "id": "9aea66a1",
   "metadata": {
    "ExecuteTime": {
     "end_time": "2022-10-27T17:49:55.240095Z",
     "start_time": "2022-10-27T17:49:55.230767Z"
    }
   },
   "outputs": [
    {
     "data": {
      "text/plain": [
       "cotton            138\n",
       "cover             104\n",
       "single             91\n",
       "pack               89\n",
       "polyester          82\n",
       "                 ... \n",
       "furnishingland     18\n",
       "additional         17\n",
       "rajasthan          17\n",
       "covers             17\n",
       "product            17\n",
       "Name: count, Length: 100, dtype: int64"
      ]
     },
     "execution_count": 83,
     "metadata": {},
     "output_type": "execute_result"
    }
   ],
   "source": [
    "n = 100\n",
    "# top `n` of most frequent words in the 'Home Furnishing' category\n",
    "common_words = pd.Series(tokens_dic['Home Furnishing']).value_counts().head(n).index\n",
    "pd.Series(tokens_dic['Home Furnishing']).value_counts().head(n)"
   ]
  },
  {
   "cell_type": "code",
   "execution_count": 84,
   "id": "6b7c622b",
   "metadata": {
    "ExecuteTime": {
     "end_time": "2022-10-27T17:49:55.259741Z",
     "start_time": "2022-10-27T17:49:55.241785Z"
    }
   },
   "outputs": [],
   "source": [
    "for cat in tokens_dic.keys():\n",
    "    if cat == 'Home Furnishing':\n",
    "        continue\n",
    "    # top `n` of most frequent words in `cat`\n",
    "    top_words = pd.Series(tokens_dic[cat]).value_counts().head(n).index\n",
    "    common_words = [w for w in common_words if w in top_words]"
   ]
  },
  {
   "cell_type": "code",
   "execution_count": 85,
   "id": "70439c0f",
   "metadata": {
    "ExecuteTime": {
     "end_time": "2022-10-27T17:49:55.265014Z",
     "start_time": "2022-10-27T17:49:55.261504Z"
    }
   },
   "outputs": [
    {
     "data": {
      "text/plain": [
       "15"
      ]
     },
     "execution_count": 85,
     "metadata": {},
     "output_type": "execute_result"
    }
   ],
   "source": [
    "len(common_words)"
   ]
  },
  {
   "cell_type": "code",
   "execution_count": 86,
   "id": "83fc65db",
   "metadata": {},
   "outputs": [
    {
     "data": {
      "text/plain": [
       "['buy',\n",
       " 'free',\n",
       " 'products',\n",
       " 'delivery',\n",
       " 'genuine',\n",
       " 'shipping',\n",
       " 'cash',\n",
       " 'color',\n",
       " 'features',\n",
       " 'price',\n",
       " 'brand',\n",
       " 'specifications',\n",
       " 'box',\n",
       " 'general',\n",
       " 'type']"
      ]
     },
     "execution_count": 86,
     "metadata": {},
     "output_type": "execute_result"
    }
   ],
   "source": [
    "# words that appear in the top `n` of all categories\n",
    "common_words"
   ]
  },
  {
   "cell_type": "markdown",
   "metadata": {},
   "source": [
    "## Final processing"
   ]
  },
  {
   "cell_type": "code",
   "execution_count": 87,
   "id": "8fd83fd7",
   "metadata": {},
   "outputs": [
    {
     "data": {
      "text/html": [
       "<div>\n",
       "<style scoped>\n",
       "    .dataframe tbody tr th:only-of-type {\n",
       "        vertical-align: middle;\n",
       "    }\n",
       "\n",
       "    .dataframe tbody tr th {\n",
       "        vertical-align: top;\n",
       "    }\n",
       "\n",
       "    .dataframe thead th {\n",
       "        text-align: right;\n",
       "    }\n",
       "</style>\n",
       "<table border=\"1\" class=\"dataframe\">\n",
       "  <thead>\n",
       "    <tr style=\"text-align: right;\">\n",
       "      <th></th>\n",
       "      <th>category</th>\n",
       "      <th>text</th>\n",
       "    </tr>\n",
       "  </thead>\n",
       "  <tbody>\n",
       "    <tr>\n",
       "      <th>0</th>\n",
       "      <td>Home Furnishing</td>\n",
       "      <td>Elegance Polyester Multicolor Abstract Eyelet ...</td>\n",
       "    </tr>\n",
       "    <tr>\n",
       "      <th>1</th>\n",
       "      <td>Baby Care</td>\n",
       "      <td>Sathiyas Cotton Bath Towel Specifications of S...</td>\n",
       "    </tr>\n",
       "    <tr>\n",
       "      <th>2</th>\n",
       "      <td>Baby Care</td>\n",
       "      <td>Eurospa Cotton Terry Face Towel Set Key Featur...</td>\n",
       "    </tr>\n",
       "    <tr>\n",
       "      <th>3</th>\n",
       "      <td>Home Furnishing</td>\n",
       "      <td>SANTOSH ROYAL FASHION Cotton Printed King size...</td>\n",
       "    </tr>\n",
       "    <tr>\n",
       "      <th>4</th>\n",
       "      <td>Home Furnishing</td>\n",
       "      <td>Jaipur Print Cotton Floral King sized Double B...</td>\n",
       "    </tr>\n",
       "  </tbody>\n",
       "</table>\n",
       "</div>"
      ],
      "text/plain": [
       "          category                                               text\n",
       "0  Home Furnishing  Elegance Polyester Multicolor Abstract Eyelet ...\n",
       "1        Baby Care  Sathiyas Cotton Bath Towel Specifications of S...\n",
       "2        Baby Care  Eurospa Cotton Terry Face Towel Set Key Featur...\n",
       "3  Home Furnishing  SANTOSH ROYAL FASHION Cotton Printed King size...\n",
       "4  Home Furnishing  Jaipur Print Cotton Floral King sized Double B..."
      ]
     },
     "execution_count": 87,
     "metadata": {},
     "output_type": "execute_result"
    }
   ],
   "source": [
    "df_text = df_text[['category', 'text']]\n",
    "df_text.head()"
   ]
  },
  {
   "cell_type": "code",
   "execution_count": 88,
   "id": "a6524bff",
   "metadata": {
    "ExecuteTime": {
     "end_time": "2022-10-27T17:50:04.924629Z",
     "start_time": "2022-10-27T17:49:55.281713Z"
    },
    "scrolled": true
   },
   "outputs": [],
   "source": [
    "# preprocessing function for the bag of words\n",
    "def transform_text(doc):\n",
    "    transf_doc = process_text(doc,\n",
    "                              stop_words=stop_words,\n",
    "                              list_rare_words=unique_words,\n",
    "                              min_len_words=3,\n",
    "                              force_is_alpha=True,\n",
    "                              extra_words=common_words,\n",
    "                              #lem_or_stem='stem',\n",
    "                              eng_words=None,\n",
    "                              rejoin=True\n",
    "                             )\n",
    "    \n",
    "    return transf_doc\n",
    "\n",
    "# preprocessing function for the bag of words with lemmatization\n",
    "def transform_text_lem(doc):\n",
    "    transf_doc = process_text(doc,\n",
    "                              stop_words=stop_words,\n",
    "                              list_rare_words=unique_words,\n",
    "                              min_len_words=3,\n",
    "                              force_is_alpha=True,\n",
    "                              extra_words=common_words,\n",
    "                              lem_or_stem='lem',\n",
    "                              eng_words=None,\n",
    "                              rejoin=True\n",
    "                             )\n",
    "    \n",
    "    return transf_doc\n",
    "\n",
    "# preprocessing function for the bag of words with stemming\n",
    "def transform_text_stem(doc):\n",
    "    transf_doc = process_text(doc,\n",
    "                              stop_words=stop_words,\n",
    "                              list_rare_words=unique_words,\n",
    "                              min_len_words=3,\n",
    "                              force_is_alpha=True,\n",
    "                              extra_words=common_words,\n",
    "                              lem_or_stem='stem',\n",
    "                              eng_words=None,\n",
    "                              rejoin=True\n",
    "                             )\n",
    "    \n",
    "    return transf_doc\n",
    "\n",
    "\n",
    "df_text['clean_text'] = df_text['text'].apply(transform_text)\n",
    "df_text['clean_text_lem'] = df_text['text'].apply(transform_text_lem)\n",
    "df_text['clean_text_stem'] = df_text['text'].apply(transform_text_stem)"
   ]
  },
  {
   "cell_type": "code",
   "execution_count": 89,
   "id": "f5cf72ff",
   "metadata": {
    "ExecuteTime": {
     "end_time": "2022-10-27T17:50:04.934192Z",
     "start_time": "2022-10-27T17:50:04.926608Z"
    }
   },
   "outputs": [
    {
     "data": {
      "text/html": [
       "<div>\n",
       "<style scoped>\n",
       "    .dataframe tbody tr th:only-of-type {\n",
       "        vertical-align: middle;\n",
       "    }\n",
       "\n",
       "    .dataframe tbody tr th {\n",
       "        vertical-align: top;\n",
       "    }\n",
       "\n",
       "    .dataframe thead th {\n",
       "        text-align: right;\n",
       "    }\n",
       "</style>\n",
       "<table border=\"1\" class=\"dataframe\">\n",
       "  <thead>\n",
       "    <tr style=\"text-align: right;\">\n",
       "      <th></th>\n",
       "      <th>category</th>\n",
       "      <th>text</th>\n",
       "      <th>clean_text</th>\n",
       "      <th>clean_text_lem</th>\n",
       "      <th>clean_text_stem</th>\n",
       "    </tr>\n",
       "  </thead>\n",
       "  <tbody>\n",
       "    <tr>\n",
       "      <th>0</th>\n",
       "      <td>Home Furnishing</td>\n",
       "      <td>Elegance Polyester Multicolor Abstract Eyelet ...</td>\n",
       "      <td>elegance polyester multicolor abstract eyelet ...</td>\n",
       "      <td>elegance polyester multicolor abstract eyelet ...</td>\n",
       "      <td>eleg polyest multicolor abstract eyelet door c...</td>\n",
       "    </tr>\n",
       "    <tr>\n",
       "      <th>1</th>\n",
       "      <td>Baby Care</td>\n",
       "      <td>Sathiyas Cotton Bath Towel Specifications of S...</td>\n",
       "      <td>sathiyas cotton bath towel sathiyas cotton bat...</td>\n",
       "      <td>sathiyas cotton bath towel sathiyas cotton bat...</td>\n",
       "      <td>sathiya cotton bath towel sathiya cotton bath ...</td>\n",
       "    </tr>\n",
       "    <tr>\n",
       "      <th>2</th>\n",
       "      <td>Baby Care</td>\n",
       "      <td>Eurospa Cotton Terry Face Towel Set Key Featur...</td>\n",
       "      <td>eurospa cotton terry face towel set key eurosp...</td>\n",
       "      <td>eurospa cotton terry face towel set key eurosp...</td>\n",
       "      <td>eurospa cotton terri face towel set key eurosp...</td>\n",
       "    </tr>\n",
       "    <tr>\n",
       "      <th>3</th>\n",
       "      <td>Home Furnishing</td>\n",
       "      <td>SANTOSH ROYAL FASHION Cotton Printed King size...</td>\n",
       "      <td>santosh royal fashion cotton printed king size...</td>\n",
       "      <td>santosh royal fashion cotton printed king size...</td>\n",
       "      <td>santosh royal fashion cotton print king size d...</td>\n",
       "    </tr>\n",
       "    <tr>\n",
       "      <th>4</th>\n",
       "      <td>Home Furnishing</td>\n",
       "      <td>Jaipur Print Cotton Floral King sized Double B...</td>\n",
       "      <td>jaipur print cotton floral king sized double b...</td>\n",
       "      <td>jaipur print cotton floral king sized double b...</td>\n",
       "      <td>jaipur print cotton floral king size doubl bed...</td>\n",
       "    </tr>\n",
       "  </tbody>\n",
       "</table>\n",
       "</div>"
      ],
      "text/plain": [
       "          category                                               text  \\\n",
       "0  Home Furnishing  Elegance Polyester Multicolor Abstract Eyelet ...   \n",
       "1        Baby Care  Sathiyas Cotton Bath Towel Specifications of S...   \n",
       "2        Baby Care  Eurospa Cotton Terry Face Towel Set Key Featur...   \n",
       "3  Home Furnishing  SANTOSH ROYAL FASHION Cotton Printed King size...   \n",
       "4  Home Furnishing  Jaipur Print Cotton Floral King sized Double B...   \n",
       "\n",
       "                                          clean_text  \\\n",
       "0  elegance polyester multicolor abstract eyelet ...   \n",
       "1  sathiyas cotton bath towel sathiyas cotton bat...   \n",
       "2  eurospa cotton terry face towel set key eurosp...   \n",
       "3  santosh royal fashion cotton printed king size...   \n",
       "4  jaipur print cotton floral king sized double b...   \n",
       "\n",
       "                                      clean_text_lem  \\\n",
       "0  elegance polyester multicolor abstract eyelet ...   \n",
       "1  sathiyas cotton bath towel sathiyas cotton bat...   \n",
       "2  eurospa cotton terry face towel set key eurosp...   \n",
       "3  santosh royal fashion cotton printed king size...   \n",
       "4  jaipur print cotton floral king sized double b...   \n",
       "\n",
       "                                     clean_text_stem  \n",
       "0  eleg polyest multicolor abstract eyelet door c...  \n",
       "1  sathiya cotton bath towel sathiya cotton bath ...  \n",
       "2  eurospa cotton terri face towel set key eurosp...  \n",
       "3  santosh royal fashion cotton print king size d...  \n",
       "4  jaipur print cotton floral king size doubl bed...  "
      ]
     },
     "execution_count": 89,
     "metadata": {},
     "output_type": "execute_result"
    }
   ],
   "source": [
    "df_text.head()"
   ]
  },
  {
   "cell_type": "code",
   "execution_count": 90,
   "id": "624b6aa9",
   "metadata": {},
   "outputs": [
    {
     "name": "stdout",
     "output_type": "stream",
     "text": [
      "<class 'pandas.core.frame.DataFrame'>\n",
      "RangeIndex: 1050 entries, 0 to 1049\n",
      "Data columns (total 5 columns):\n",
      " #   Column           Non-Null Count  Dtype \n",
      "---  ------           --------------  ----- \n",
      " 0   category         1050 non-null   object\n",
      " 1   text             1050 non-null   object\n",
      " 2   clean_text       1050 non-null   object\n",
      " 3   clean_text_lem   1050 non-null   object\n",
      " 4   clean_text_stem  1050 non-null   object\n",
      "dtypes: object(5)\n",
      "memory usage: 41.1+ KB\n"
     ]
    }
   ],
   "source": [
    "df_text.info()"
   ]
  },
  {
   "cell_type": "code",
   "execution_count": 91,
   "id": "10e58a91",
   "metadata": {},
   "outputs": [],
   "source": [
    "# save the Dataframe in cvs format\n",
    "df_text.to_csv('df_text.csv')"
   ]
  },
  {
   "cell_type": "code",
   "execution_count": null,
   "id": "94c6bd2a",
   "metadata": {},
   "outputs": [],
   "source": []
  }
 ],
 "metadata": {
  "kernelspec": {
   "display_name": "Python 3",
   "language": "python",
   "name": "python3"
  },
  "language_info": {
   "codemirror_mode": {
    "name": "ipython",
    "version": 3
   },
   "file_extension": ".py",
   "mimetype": "text/x-python",
   "name": "python",
   "nbconvert_exporter": "python",
   "pygments_lexer": "ipython3",
   "version": "3.11.7"
  },
  "toc": {
   "base_numbering": 1,
   "nav_menu": {
    "height": "138px",
    "width": "163px"
   },
   "number_sections": true,
   "sideBar": true,
   "skip_h1_title": false,
   "title_cell": "Table of Contents",
   "title_sidebar": "Contents",
   "toc_cell": false,
   "toc_position": {
    "height": "calc(100% - 180px)",
    "left": "10px",
    "top": "150px",
    "width": "286.719px"
   },
   "toc_section_display": true,
   "toc_window_display": true
  }
 },
 "nbformat": 4,
 "nbformat_minor": 5
}
